import pandas as pd

df = pd.read_csv('data/model.csv')