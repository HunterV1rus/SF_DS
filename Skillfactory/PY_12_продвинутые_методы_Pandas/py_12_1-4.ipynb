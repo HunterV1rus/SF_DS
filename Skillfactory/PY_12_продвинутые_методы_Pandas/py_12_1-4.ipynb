{
 "cells": [
  {
   "cell_type": "code",
   "execution_count": 2,
   "metadata": {},
   "outputs": [],
   "source": [
    "import pandas as pd\n",
    "import os\n",
    "import sys"
   ]
  },
  {
   "cell_type": "code",
   "execution_count": 3,
   "metadata": {},
   "outputs": [],
   "source": [
    "melb_df = pd.read_csv(sys.path[0] + '/data/melb_data_fe.csv', sep = ',')\n",
    "melb_cp = melb_df.copy()"
   ]
  },
  {
   "cell_type": "code",
   "execution_count": 4,
   "metadata": {},
   "outputs": [
    {
     "name": "stdout",
     "output_type": "stream",
     "text": [
      "<class 'pandas.core.frame.DataFrame'>\n",
      "RangeIndex: 13580 entries, 0 to 13579\n",
      "Data columns (total 26 columns):\n",
      " #   Column           Non-Null Count  Dtype  \n",
      "---  ------           --------------  -----  \n",
      " 0   Suburb           13580 non-null  object \n",
      " 1   Rooms            13580 non-null  int64  \n",
      " 2   Type             13580 non-null  object \n",
      " 3   Price            13580 non-null  float64\n",
      " 4   Method           13580 non-null  object \n",
      " 5   SellerG          13580 non-null  object \n",
      " 6   Date             13580 non-null  object \n",
      " 7   Distance         13580 non-null  float64\n",
      " 8   Postcode         13580 non-null  int64  \n",
      " 9   Bedroom          13580 non-null  int64  \n",
      " 10  Bathroom         13580 non-null  int64  \n",
      " 11  Car              13580 non-null  int64  \n",
      " 12  Landsize         13580 non-null  float64\n",
      " 13  BuildingArea     13580 non-null  float64\n",
      " 14  CouncilArea      12211 non-null  object \n",
      " 15  Lattitude        13580 non-null  float64\n",
      " 16  Longtitude       13580 non-null  float64\n",
      " 17  Regionname       13580 non-null  object \n",
      " 18  Propertycount    13580 non-null  int64  \n",
      " 19  MeanRoomsSquare  13580 non-null  float64\n",
      " 20  AreaRatio        13580 non-null  float64\n",
      " 21  MonthSale        13580 non-null  int64  \n",
      " 22  AgeBuilding      13580 non-null  int64  \n",
      " 23  WeekdaySale      13580 non-null  int64  \n",
      " 24  StreetType       13580 non-null  object \n",
      " 25  Weekend          13580 non-null  int64  \n",
      "dtypes: float64(8), int64(10), object(8)\n",
      "memory usage: 2.7+ MB\n"
     ]
    },
    {
     "data": {
      "text/plain": [
       "None"
      ]
     },
     "metadata": {},
     "output_type": "display_data"
    }
   ],
   "source": [
    "display(melb_cp.info())"
   ]
  },
  {
   "cell_type": "code",
   "execution_count": 5,
   "metadata": {},
   "outputs": [],
   "source": [
    "melb_cp['Date'] = pd.to_datetime(melb_cp['Date'], dayfirst=True)"
   ]
  },
  {
   "cell_type": "markdown",
   "metadata": {},
   "source": [
    "1.1"
   ]
  },
  {
   "cell_type": "code",
   "execution_count": 6,
   "metadata": {},
   "outputs": [],
   "source": [
    "def get_quarter(month):\n",
    "    if month in range(1,4):\n",
    "        return 1\n",
    "    elif  month in range(4,7):\n",
    "        return 2\n",
    "    elif month in range(7,10):\n",
    "        return 3\n",
    "    elif month in range(10,13):\n",
    "        return 4\n",
    "    "
   ]
  },
  {
   "cell_type": "code",
   "execution_count": 7,
   "metadata": {},
   "outputs": [],
   "source": [
    "melb_cp['Quarter'] = melb_cp['Date'].dt.month.apply(get_quarter)"
   ]
  },
  {
   "cell_type": "markdown",
   "metadata": {},
   "source": [
    "Количество проданных квартир по четвертям года"
   ]
  },
  {
   "cell_type": "code",
   "execution_count": 8,
   "metadata": {},
   "outputs": [
    {
     "data": {
      "text/plain": [
       "3    4873\n",
       "2    4359\n",
       "4    2329\n",
       "1    2019\n",
       "Name: Quarter, dtype: int64"
      ]
     },
     "metadata": {},
     "output_type": "display_data"
    }
   ],
   "source": [
    "display(melb_cp['Quarter'].value_counts())"
   ]
  },
  {
   "cell_type": "markdown",
   "metadata": {},
   "source": [
    "1.2"
   ]
  },
  {
   "cell_type": "code",
   "execution_count": 9,
   "metadata": {},
   "outputs": [],
   "source": [
    "melb_cp2 = melb_df.copy()"
   ]
  },
  {
   "cell_type": "code",
   "execution_count": 10,
   "metadata": {},
   "outputs": [
    {
     "name": "stdout",
     "output_type": "stream",
     "text": [
      "<class 'pandas.core.frame.DataFrame'>\n",
      "RangeIndex: 13580 entries, 0 to 13579\n",
      "Data columns (total 26 columns):\n",
      " #   Column           Non-Null Count  Dtype   \n",
      "---  ------           --------------  -----   \n",
      " 0   Suburb           13580 non-null  category\n",
      " 1   Rooms            13580 non-null  int64   \n",
      " 2   Type             13580 non-null  category\n",
      " 3   Price            13580 non-null  float64 \n",
      " 4   Method           13580 non-null  category\n",
      " 5   SellerG          13580 non-null  category\n",
      " 6   Date             13580 non-null  object  \n",
      " 7   Distance         13580 non-null  float64 \n",
      " 8   Postcode         13580 non-null  int64   \n",
      " 9   Bedroom          13580 non-null  int64   \n",
      " 10  Bathroom         13580 non-null  int64   \n",
      " 11  Car              13580 non-null  int64   \n",
      " 12  Landsize         13580 non-null  float64 \n",
      " 13  BuildingArea     13580 non-null  float64 \n",
      " 14  CouncilArea      12211 non-null  category\n",
      " 15  Lattitude        13580 non-null  float64 \n",
      " 16  Longtitude       13580 non-null  float64 \n",
      " 17  Regionname       13580 non-null  category\n",
      " 18  Propertycount    13580 non-null  int64   \n",
      " 19  MeanRoomsSquare  13580 non-null  float64 \n",
      " 20  AreaRatio        13580 non-null  float64 \n",
      " 21  MonthSale        13580 non-null  category\n",
      " 22  AgeBuilding      13580 non-null  int64   \n",
      " 23  WeekdaySale      13580 non-null  category\n",
      " 24  StreetType       13580 non-null  category\n",
      " 25  Weekend          13580 non-null  category\n",
      "dtypes: category(10), float64(8), int64(7), object(1)\n",
      "memory usage: 1.8+ MB\n"
     ]
    },
    {
     "data": {
      "text/plain": [
       "None"
      ]
     },
     "metadata": {},
     "output_type": "display_data"
    }
   ],
   "source": [
    "columns_to_change = []\n",
    "ban_list = ['Date', 'Bedroom', 'Rooms', 'Car', 'Bathroom']\n",
    "\n",
    "for columnName in melb_cp2.columns.tolist():\n",
    "    if len(melb_cp2[columnName].value_counts().nlargest(150).index.tolist()) < 150 and columnName not in ban_list:\n",
    "        columns_to_change.insert(0, columnName)\n",
    "\n",
    "#display(columns_to_change)\n",
    "\n",
    "for columnName in melb_cp2.columns.tolist():\n",
    "    if columnName in columns_to_change:\n",
    "        melb_cp2[columnName] = melb_cp2[columnName].astype('category')\n",
    "        \n",
    "display(melb_cp2.info())"
   ]
  },
  {
   "cell_type": "markdown",
   "metadata": {},
   "source": [
    "Сортировка столбца. Сортировка по убыванию(ascending=False)\n",
    "Обновление индексов(ignore_index)"
   ]
  },
  {
   "cell_type": "code",
   "execution_count": 11,
   "metadata": {},
   "outputs": [
    {
     "data": {
      "text/plain": [
       "Suburb                        Camberwell\n",
       "Rooms                                  2\n",
       "Type                                unit\n",
       "Price                          1017000.0\n",
       "Method                                 S\n",
       "SellerG                           Jellis\n",
       "Date                 2016-03-12 00:00:00\n",
       "Distance                             7.8\n",
       "Postcode                            3124\n",
       "Bedroom                                2\n",
       "Bathroom                               1\n",
       "Car                                    2\n",
       "Landsize                             0.0\n",
       "BuildingArea                       126.0\n",
       "CouncilArea                   Boroondara\n",
       "Lattitude                       -37.8231\n",
       "Longtitude                      145.0585\n",
       "Regionname         Southern Metropolitan\n",
       "Propertycount                       8920\n",
       "MeanRoomsSquare                     25.2\n",
       "AreaRatio                            1.0\n",
       "MonthSale                              3\n",
       "AgeBuilding                           76\n",
       "WeekdaySale                            5\n",
       "StreetType                            Rd\n",
       "Weekend                                1\n",
       "Quarter                                1\n",
       "Name: 1558, dtype: object"
      ]
     },
     "metadata": {},
     "output_type": "display_data"
    },
    {
     "name": "stdout",
     "output_type": "stream",
     "text": [
      "<class 'pandas.core.frame.DataFrame'>\n",
      "RangeIndex: 13580 entries, 0 to 13579\n",
      "Data columns (total 27 columns):\n",
      " #   Column           Non-Null Count  Dtype         \n",
      "---  ------           --------------  -----         \n",
      " 0   Suburb           13580 non-null  object        \n",
      " 1   Rooms            13580 non-null  int64         \n",
      " 2   Type             13580 non-null  object        \n",
      " 3   Price            13580 non-null  float64       \n",
      " 4   Method           13580 non-null  object        \n",
      " 5   SellerG          13580 non-null  object        \n",
      " 6   Date             13580 non-null  datetime64[ns]\n",
      " 7   Distance         13580 non-null  float64       \n",
      " 8   Postcode         13580 non-null  int64         \n",
      " 9   Bedroom          13580 non-null  int64         \n",
      " 10  Bathroom         13580 non-null  int64         \n",
      " 11  Car              13580 non-null  int64         \n",
      " 12  Landsize         13580 non-null  float64       \n",
      " 13  BuildingArea     13580 non-null  float64       \n",
      " 14  CouncilArea      12211 non-null  object        \n",
      " 15  Lattitude        13580 non-null  float64       \n",
      " 16  Longtitude       13580 non-null  float64       \n",
      " 17  Regionname       13580 non-null  object        \n",
      " 18  Propertycount    13580 non-null  int64         \n",
      " 19  MeanRoomsSquare  13580 non-null  float64       \n",
      " 20  AreaRatio        13580 non-null  float64       \n",
      " 21  MonthSale        13580 non-null  int64         \n",
      " 22  AgeBuilding      13580 non-null  int64         \n",
      " 23  WeekdaySale      13580 non-null  int64         \n",
      " 24  StreetType       13580 non-null  object        \n",
      " 25  Weekend          13580 non-null  int64         \n",
      " 26  Quarter          13580 non-null  int64         \n",
      "dtypes: datetime64[ns](1), float64(8), int64(11), object(7)\n",
      "memory usage: 2.8+ MB\n"
     ]
    },
    {
     "data": {
      "text/plain": [
       "None"
      ]
     },
     "metadata": {},
     "output_type": "display_data"
    }
   ],
   "source": [
    "melb_cp.sort_values(by='AreaRatio', ascending=False, ignore_index=True)\n",
    "display(melb_cp.iloc[1558])\n",
    "display(melb_cp.info())"
   ]
  },
  {
   "cell_type": "code",
   "execution_count": null,
   "metadata": {},
   "outputs": [],
   "source": [
    "mask1 = melb_df['Type'] == 'townhouse'\n",
    "mask2 = melb_df['Rooms'] > 2\n",
    "\n",
    "result = melb_df[mask1 & mask2].sort_values(\n",
    "    by=['Rooms', 'MeanRoomsSquare'], \n",
    "    ascending=[True, False], \n",
    "    ignore_index=True)\n",
    "print(result.iloc[18])"
   ]
  },
  {
   "cell_type": "code",
   "execution_count": null,
   "metadata": {},
   "outputs": [],
   "source": [
    "mask1 = melb_df['Type'] == 'townhouse'\n",
    "mask2 = melb_df['Rooms'] > 2\n",
    "print(melb_df[mask1&mask2].sort_values(\n",
    "    by=['Rooms', 'MeanRoomsSquare'],\n",
    "    ascending=[True, False],\n",
    "    ignore_index=True\n",
    ").loc[18, 'Price'])"
   ]
  },
  {
   "cell_type": "markdown",
   "metadata": {},
   "source": [
    "Группировка данных. Вывод по убыванию"
   ]
  },
  {
   "cell_type": "code",
   "execution_count": null,
   "metadata": {},
   "outputs": [],
   "source": [
    "display(melb_df.groupby('Rooms')['Price'].agg('mean').sort_values(ascending=False))"
   ]
  },
  {
   "cell_type": "code",
   "execution_count": null,
   "metadata": {},
   "outputs": [],
   "source": [
    "display(melb_df.groupby('Regionname')['Lattitude'].agg('std').sort_values(ascending=True))"
   ]
  },
  {
   "cell_type": "markdown",
   "metadata": {},
   "source": [
    "Какая риелторская контора имеет наименьшую общую выручку за период"
   ]
  },
  {
   "cell_type": "code",
   "execution_count": null,
   "metadata": {},
   "outputs": [],
   "source": [
    "melb_cp3 = melb_df.copy()\n",
    "melb_cp3['Date'] = pd.to_datetime(melb_cp3.Date, dayfirst=True)\n",
    "melb_date = melb_cp3[(melb_cp3['Date'] >= pd.to_datetime('2017-05-01')) & (melb_cp3['Date'] <= pd.to_datetime('2017-09-01'))]\n",
    "#mask1 = \n",
    "display(melb_date.groupby('SellerG')['Price'].agg('sum').sort_values(ascending=True))"
   ]
  },
  {
   "cell_type": "markdown",
   "metadata": {},
   "source": [
    "Простейшая сводная таблица"
   ]
  },
  {
   "cell_type": "code",
   "execution_count": null,
   "metadata": {},
   "outputs": [],
   "source": [
    "print(melb_df.groupby('Rooms')[['Price', 'BuildingArea']].median())"
   ]
  },
  {
   "cell_type": "code",
   "execution_count": null,
   "metadata": {},
   "outputs": [],
   "source": [
    "print(melb_df.groupby(['Rooms', 'Type'])['Price'].mean())"
   ]
  },
  {
   "cell_type": "code",
   "execution_count": 140,
   "metadata": {},
   "outputs": [
    {
     "name": "stdout",
     "output_type": "stream",
     "text": [
      "Type          house     townhouse          unit\n",
      "Rooms                                          \n",
      "1      8.668655e+05  5.927045e+05  3.899289e+05\n",
      "2      1.017238e+06  7.101585e+05  6.104905e+05\n",
      "3      1.109233e+06  9.847087e+05  8.505963e+05\n",
      "4      1.462283e+06  1.217092e+06  1.037476e+06\n",
      "5      1.877327e+06  1.035000e+06           NaN\n",
      "6      1.869508e+06           NaN  5.200000e+05\n",
      "7      1.920700e+06           NaN           NaN\n",
      "8      1.510286e+06           NaN  2.250000e+06\n",
      "10     9.000000e+05           NaN           NaN\n"
     ]
    }
   ],
   "source": [
    "print(melb_df.groupby(['Rooms', 'Type'])['Price'].mean().unstack())"
   ]
  },
  {
   "cell_type": "markdown",
   "metadata": {},
   "source": [
    "Тоже самое, но методом pivot_table"
   ]
  },
  {
   "cell_type": "code",
   "execution_count": 143,
   "metadata": {},
   "outputs": [
    {
     "name": "stdout",
     "output_type": "stream",
     "text": [
      "Type       house  townhouse       unit\n",
      "Rooms                                 \n",
      "1       866866.0   592705.0   389929.0\n",
      "2      1017238.0   710158.0   610491.0\n",
      "3      1109233.0   984709.0   850596.0\n",
      "4      1462283.0  1217092.0  1037476.0\n",
      "5      1877327.0  1035000.0        0.0\n",
      "6      1869508.0        0.0   520000.0\n",
      "7      1920700.0        0.0        0.0\n",
      "8      1510286.0        0.0  2250000.0\n",
      "10      900000.0        0.0        0.0\n"
     ]
    }
   ],
   "source": [
    "print(melb_df.pivot_table(\n",
    "    values='Price', # Данные в таблице\n",
    "    index='Rooms', # Индексы сводной таблицы\n",
    "    columns='Type', # имена столбцов: категории в 'Type'\n",
    "    fill_value=0, # пропуски запонить нулями\n",
    ").round())"
   ]
  },
  {
   "cell_type": "code",
   "execution_count": 145,
   "metadata": {},
   "outputs": [
    {
     "name": "stdout",
     "output_type": "stream",
     "text": [
      "Weekend                        0     1\n",
      "Regionname                            \n",
      "Eastern Metropolitan         447  1024\n",
      "Eastern Victoria              13    40\n",
      "Northern Metropolitan       1258  2632\n",
      "Northern Victoria             11    30\n",
      "South-Eastern Metropolitan   123   327\n",
      "Southern Metropolitan       1534  3161\n",
      "Western Metropolitan         960  1988\n",
      "Western Victoria               8    24\n"
     ]
    }
   ],
   "source": [
    "print(melb_df.pivot_table(\n",
    "    values='Price', # Данные в таблице\n",
    "    index='Regionname', # Индексы сводной таблицы\n",
    "    columns='Weekend', # имена столбцов: категории в 'Type' \n",
    "    fill_value=0, # пропуски запонить нулями\n",
    "    aggfunc='count'\n",
    ").round())"
   ]
  },
  {
   "cell_type": "code",
   "execution_count": 147,
   "metadata": {},
   "outputs": [
    {
     "name": "stdout",
     "output_type": "stream",
     "text": [
      "Weekend                                 0     1\n",
      "Regionname                 Type                \n",
      "Eastern Metropolitan       house      341   832\n",
      "                           townhouse   42    76\n",
      "                           unit        64   116\n",
      "Eastern Victoria           house       13    37\n",
      "                           unit         0     3\n",
      "Northern Metropolitan      house      864  1890\n",
      "                           townhouse  106   201\n",
      "                           unit       288   541\n",
      "Northern Victoria          house       11    30\n",
      "South-Eastern Metropolitan house      102   286\n",
      "                           townhouse   10    15\n",
      "                           unit        11    26\n",
      "Southern Metropolitan      house      830  1891\n",
      "                           townhouse  127   298\n",
      "                           unit       577   972\n",
      "Western Metropolitan       house      762  1528\n",
      "                           townhouse   70   169\n",
      "                           unit       128   291\n",
      "Western Victoria           house        8    24\n"
     ]
    }
   ],
   "source": [
    "print(melb_df.pivot_table(\n",
    "    values='Price', # имя столбца, к которому будут применены агрегирующие функции\n",
    "    index=['Regionname','Type'], # Индексы сводной таблицы\n",
    "    columns='Weekend', # имена столбцов: категории в 'Type' \n",
    "    fill_value=0, # пропуски запонить нулями\n",
    "    aggfunc='count' # список агрегирующих функций\n",
    ").round())"
   ]
  },
  {
   "cell_type": "code",
   "execution_count": 210,
   "metadata": {},
   "outputs": [
    {
     "name": "stdout",
     "output_type": "stream",
     "text": [
      "Rooms         1    2    3      4    5    6      7    8    10\n",
      "Type                                                        \n",
      "house      126.0  126  126  141.0  177  126  216.5  126  126\n",
      "townhouse   88.0  114  126  159.5  152    0    0.0    0    0\n",
      "unit        69.5  110  126  126.0    0  171    0.0  126    0\n"
     ]
    }
   ],
   "source": [
    "table = melb_df.pivot_table(\n",
    "    values='BuildingArea', # имя столбца, к которому будут применены агрегирующие функции\n",
    "    index='Type', # Индексы сводной таблицы\n",
    "    columns='Rooms', # имена столбцов: категории в 'Type' \n",
    "    fill_value=0, # пропуски запонить нулями\n",
    "    aggfunc='median' # список агрегирующих функций\n",
    ")\n",
    "print(table)"
   ]
  },
  {
   "cell_type": "code",
   "execution_count": 231,
   "metadata": {},
   "outputs": [
    {
     "data": {
      "text/html": [
       "<div>\n",
       "<style scoped>\n",
       "    .dataframe tbody tr th:only-of-type {\n",
       "        vertical-align: middle;\n",
       "    }\n",
       "\n",
       "    .dataframe tbody tr th {\n",
       "        vertical-align: top;\n",
       "    }\n",
       "\n",
       "    .dataframe thead th {\n",
       "        text-align: right;\n",
       "    }\n",
       "</style>\n",
       "<table border=\"1\" class=\"dataframe\">\n",
       "  <thead>\n",
       "    <tr style=\"text-align: right;\">\n",
       "      <th>Type</th>\n",
       "      <th>house</th>\n",
       "      <th>townhouse</th>\n",
       "      <th>unit</th>\n",
       "    </tr>\n",
       "    <tr>\n",
       "      <th>SellerG</th>\n",
       "      <th></th>\n",
       "      <th></th>\n",
       "      <th></th>\n",
       "    </tr>\n",
       "  </thead>\n",
       "  <tbody>\n",
       "    <tr>\n",
       "      <th>Nick</th>\n",
       "      <td>2025000</td>\n",
       "      <td>780000</td>\n",
       "      <td>900000</td>\n",
       "    </tr>\n",
       "  </tbody>\n",
       "</table>\n",
       "</div>"
      ],
      "text/plain": [
       "Type       house  townhouse    unit\n",
       "SellerG                            \n",
       "Nick     2025000     780000  900000"
      ]
     },
     "metadata": {},
     "output_type": "display_data"
    },
    {
     "data": {
      "text/plain": [
       "Index(['Nick'], dtype='object', name='SellerG')"
      ]
     },
     "metadata": {},
     "output_type": "display_data"
    }
   ],
   "source": [
    "table = melb_df.pivot_table(\n",
    "    values='Price', # имя столбца, к которому будут применены агрегирующие функции\n",
    "    index='SellerG', # Индексы сводной таблицы\n",
    "    columns='Type', # имена столбцов: категории в 'Type' \n",
    "    fill_value=0, # пропуски запонить нулями\n",
    "    aggfunc='median' # список агрегирующих функций\n",
    ")\n",
    "max_price = table['unit'].max()\n",
    "\n",
    "#print(table)\n",
    "display(table[table['unit'] == max_price])\n",
    "display(table[table['unit'] == max_price].index)"
   ]
  }
 ],
 "metadata": {
  "kernelspec": {
   "display_name": "Python 3.8.10 64-bit",
   "language": "python",
   "name": "python3"
  },
  "language_info": {
   "codemirror_mode": {
    "name": "ipython",
    "version": 3
   },
   "file_extension": ".py",
   "mimetype": "text/x-python",
   "name": "python",
   "nbconvert_exporter": "python",
   "pygments_lexer": "ipython3",
   "version": "3.8.10"
  },
  "orig_nbformat": 4,
  "vscode": {
   "interpreter": {
    "hash": "916dbcbb3f70747c44a77c7bcd40155683ae19c65e1c03b4aa3499c5328201f1"
   }
  }
 },
 "nbformat": 4,
 "nbformat_minor": 2
}
