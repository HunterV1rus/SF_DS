{
  "cells": [
    {
      "cell_type": "markdown",
      "id": "42289889-bd57-434e-9637-d3e354756316",
      "metadata": {
        "id": "42289889-bd57-434e-9637-d3e354756316"
      },
      "source": [
        "<center> <img src = https://raw.githubusercontent.com/AndreyRysistov/DatasetsForPandas/main/hh%20label.jpg alt=\"drawing\" style=\"width:400px;\">"
      ]
    },
    {
      "cell_type": "markdown",
      "id": "829cb75b-f14e-4ba8-9195-7ba929a7d656",
      "metadata": {
        "id": "829cb75b-f14e-4ba8-9195-7ba929a7d656",
        "tags": []
      },
      "source": [
        "# <center> Проект: Анализ вакансий из HeadHunter\n",
        "   "
      ]
    },
    {
      "cell_type": "code",
      "execution_count": 2,
      "id": "dccfde33-2452-43fb-a8a5-5c6ebc02a71d",
      "metadata": {
        "id": "dccfde33-2452-43fb-a8a5-5c6ebc02a71d"
      },
      "outputs": [],
      "source": [
        "import pandas as pd\n",
        "import psycopg2\n",
        "\n",
        "import numpy as np\n",
        "import matplotlib.pyplot as plt\n",
        "from unicodedata import normalize\n",
        "import requests\n",
        "from bs4 import BeautifulSoup\n",
        "\n",
        "import seaborn as sns\n",
        "import plotly.express as px \n",
        "import plotly.graph_objects as go"
      ]
    },
    {
      "attachments": {},
      "cell_type": "markdown",
      "id": "841bbec9",
      "metadata": {},
      "source": [
        "В данном проекте мы будем рассматривать создание модели машинного обучения, которая будет рекомендовать вакансии клиентам агентства, претендующим на позицию Data Scientist. В дальнейшем данная модель может быть улучшена для поиска вакансий по любой другой позиции."
      ]
    },
    {
      "cell_type": "code",
      "execution_count": 3,
      "id": "c704c61f",
      "metadata": {},
      "outputs": [],
      "source": []
    },
    {
      "cell_type": "code",
      "execution_count": 4,
      "id": "G4X_q8KBf7SF",
      "metadata": {
        "id": "G4X_q8KBf7SF"
      },
      "outputs": [],
      "source": [
        "connection = psycopg2.connect(\n",
        "    dbname=DBNAME,\n",
        "    user=USER,\n",
        "    host=HOST,\n",
        "    password=PASSWORD,\n",
        "    port=PORT\n",
        ")"
      ]
    },
    {
      "cell_type": "markdown",
      "id": "0dc6476b-7a00-44f1-ac93-6e3baed33a29",
      "metadata": {
        "id": "0dc6476b-7a00-44f1-ac93-6e3baed33a29"
      },
      "source": [
        "# Юнит 3. Предварительный анализ данных"
      ]
    },
    {
      "cell_type": "markdown",
      "id": "889782b6-8d1c-410e-8920-e57f27917c64",
      "metadata": {
        "id": "889782b6-8d1c-410e-8920-e57f27917c64"
      },
      "source": [
        "1. Напишите запрос, который посчитает количество вакансий в нашей базе (вакансии находятся в таблице vacancies). "
      ]
    },
    {
      "cell_type": "code",
      "execution_count": 5,
      "id": "bc39e68e-ed02-4ee2-9235-7258a2f867a8",
      "metadata": {
        "id": "bc39e68e-ed02-4ee2-9235-7258a2f867a8"
      },
      "outputs": [],
      "source": [
        "# текст запроса\n",
        "query_3_1 = f'''\n",
        "SELECT \n",
        "    count(id)\n",
        "FROM vacancies\n",
        "'''"
      ]
    },
    {
      "cell_type": "code",
      "execution_count": 6,
      "id": "7mAwtsk4hEHY",
      "metadata": {
        "id": "7mAwtsk4hEHY"
      },
      "outputs": [
        {
          "name": "stderr",
          "output_type": "stream",
          "text": [
            "/tmp/ipykernel_4042906/1114379196.py:2: UserWarning: pandas only supports SQLAlchemy connectable (engine/connection) or database string URI or sqlite3 DBAPI2 connection. Other DBAPI2 objects are not tested. Please consider using SQLAlchemy.\n",
            "  df = pd.read_sql_query(query_3_1, connection)\n"
          ]
        },
        {
          "data": {
            "text/html": [
              "<div>\n",
              "<style scoped>\n",
              "    .dataframe tbody tr th:only-of-type {\n",
              "        vertical-align: middle;\n",
              "    }\n",
              "\n",
              "    .dataframe tbody tr th {\n",
              "        vertical-align: top;\n",
              "    }\n",
              "\n",
              "    .dataframe thead th {\n",
              "        text-align: right;\n",
              "    }\n",
              "</style>\n",
              "<table border=\"1\" class=\"dataframe\">\n",
              "  <thead>\n",
              "    <tr style=\"text-align: right;\">\n",
              "      <th></th>\n",
              "      <th>count</th>\n",
              "    </tr>\n",
              "  </thead>\n",
              "  <tbody>\n",
              "    <tr>\n",
              "      <th>0</th>\n",
              "      <td>49197</td>\n",
              "    </tr>\n",
              "  </tbody>\n",
              "</table>\n",
              "</div>"
            ],
            "text/plain": [
              "   count\n",
              "0  49197"
            ]
          },
          "execution_count": 6,
          "metadata": {},
          "output_type": "execute_result"
        }
      ],
      "source": [
        "# результат запроса\n",
        "df = pd.read_sql_query(query_3_1, connection)\n",
        "df"
      ]
    },
    {
      "cell_type": "markdown",
      "id": "b583485d-1f9e-494e-ada4-80ffff7c53d6",
      "metadata": {
        "id": "b583485d-1f9e-494e-ada4-80ffff7c53d6"
      },
      "source": [
        "2. Напишите запрос, который посчитает количество работодателей (таблица employers). "
      ]
    },
    {
      "cell_type": "code",
      "execution_count": 7,
      "id": "5408c52c-3407-4a63-b25b-1aafa2322d28",
      "metadata": {
        "id": "5408c52c-3407-4a63-b25b-1aafa2322d28"
      },
      "outputs": [],
      "source": [
        "# текст запроса\n",
        "query_3_2 = f'''\n",
        "SELECT \n",
        "    count(id)\n",
        "FROM employers\n",
        "'''"
      ]
    },
    {
      "cell_type": "code",
      "execution_count": 8,
      "id": "jVL4eshKhdqc",
      "metadata": {
        "id": "jVL4eshKhdqc"
      },
      "outputs": [
        {
          "name": "stderr",
          "output_type": "stream",
          "text": [
            "/tmp/ipykernel_4042906/3062646138.py:2: UserWarning: pandas only supports SQLAlchemy connectable (engine/connection) or database string URI or sqlite3 DBAPI2 connection. Other DBAPI2 objects are not tested. Please consider using SQLAlchemy.\n",
            "  df = pd.read_sql_query(query_3_2, connection)\n"
          ]
        },
        {
          "data": {
            "text/html": [
              "<div>\n",
              "<style scoped>\n",
              "    .dataframe tbody tr th:only-of-type {\n",
              "        vertical-align: middle;\n",
              "    }\n",
              "\n",
              "    .dataframe tbody tr th {\n",
              "        vertical-align: top;\n",
              "    }\n",
              "\n",
              "    .dataframe thead th {\n",
              "        text-align: right;\n",
              "    }\n",
              "</style>\n",
              "<table border=\"1\" class=\"dataframe\">\n",
              "  <thead>\n",
              "    <tr style=\"text-align: right;\">\n",
              "      <th></th>\n",
              "      <th>count</th>\n",
              "    </tr>\n",
              "  </thead>\n",
              "  <tbody>\n",
              "    <tr>\n",
              "      <th>0</th>\n",
              "      <td>23501</td>\n",
              "    </tr>\n",
              "  </tbody>\n",
              "</table>\n",
              "</div>"
            ],
            "text/plain": [
              "   count\n",
              "0  23501"
            ]
          },
          "execution_count": 8,
          "metadata": {},
          "output_type": "execute_result"
        }
      ],
      "source": [
        "# результат запроса\n",
        "df = pd.read_sql_query(query_3_2, connection)\n",
        "df"
      ]
    },
    {
      "cell_type": "markdown",
      "id": "a2bfff1f-c975-4bf6-84be-2185d79dcb76",
      "metadata": {
        "id": "a2bfff1f-c975-4bf6-84be-2185d79dcb76"
      },
      "source": [
        "3. Посчитате с помощью запроса количество регионов (таблица areas)."
      ]
    },
    {
      "cell_type": "code",
      "execution_count": 9,
      "id": "1m8QJwBYhey6",
      "metadata": {
        "id": "1m8QJwBYhey6"
      },
      "outputs": [],
      "source": [
        "# текст запроса\n",
        "query_3_3 = f'''\n",
        "SELECT \n",
        "    count(id)\n",
        "FROM areas\n",
        "'''"
      ]
    },
    {
      "cell_type": "code",
      "execution_count": 10,
      "id": "EZsn9tlfhe7f",
      "metadata": {
        "id": "EZsn9tlfhe7f"
      },
      "outputs": [
        {
          "name": "stderr",
          "output_type": "stream",
          "text": [
            "/tmp/ipykernel_4042906/928149064.py:2: UserWarning: pandas only supports SQLAlchemy connectable (engine/connection) or database string URI or sqlite3 DBAPI2 connection. Other DBAPI2 objects are not tested. Please consider using SQLAlchemy.\n",
            "  df = pd.read_sql_query(query_3_3, connection)\n"
          ]
        },
        {
          "data": {
            "text/html": [
              "<div>\n",
              "<style scoped>\n",
              "    .dataframe tbody tr th:only-of-type {\n",
              "        vertical-align: middle;\n",
              "    }\n",
              "\n",
              "    .dataframe tbody tr th {\n",
              "        vertical-align: top;\n",
              "    }\n",
              "\n",
              "    .dataframe thead th {\n",
              "        text-align: right;\n",
              "    }\n",
              "</style>\n",
              "<table border=\"1\" class=\"dataframe\">\n",
              "  <thead>\n",
              "    <tr style=\"text-align: right;\">\n",
              "      <th></th>\n",
              "      <th>count</th>\n",
              "    </tr>\n",
              "  </thead>\n",
              "  <tbody>\n",
              "    <tr>\n",
              "      <th>0</th>\n",
              "      <td>1362</td>\n",
              "    </tr>\n",
              "  </tbody>\n",
              "</table>\n",
              "</div>"
            ],
            "text/plain": [
              "   count\n",
              "0   1362"
            ]
          },
          "execution_count": 10,
          "metadata": {},
          "output_type": "execute_result"
        }
      ],
      "source": [
        "# результат запроса\n",
        "df = pd.read_sql_query(query_3_3, connection)\n",
        "df"
      ]
    },
    {
      "cell_type": "markdown",
      "id": "41bb59f3-53cc-4a67-a5bc-bedf573955e4",
      "metadata": {
        "id": "41bb59f3-53cc-4a67-a5bc-bedf573955e4"
      },
      "source": [
        "4. Посчитате с помощью запроса количество сфер деятельности в базе (таблица industries)."
      ]
    },
    {
      "cell_type": "code",
      "execution_count": 11,
      "id": "d286cf4c-707b-4cd2-9190-7ab3587d04a1",
      "metadata": {
        "id": "d286cf4c-707b-4cd2-9190-7ab3587d04a1"
      },
      "outputs": [],
      "source": [
        "# текст запроса\n",
        "query_3_4 = f'''\n",
        "SELECT \n",
        "    count(id)\n",
        "FROM industries\n",
        "'''"
      ]
    },
    {
      "cell_type": "code",
      "execution_count": 12,
      "id": "JYAaoZ4qhfzW",
      "metadata": {
        "id": "JYAaoZ4qhfzW"
      },
      "outputs": [
        {
          "name": "stderr",
          "output_type": "stream",
          "text": [
            "/tmp/ipykernel_4042906/2101691108.py:2: UserWarning: pandas only supports SQLAlchemy connectable (engine/connection) or database string URI or sqlite3 DBAPI2 connection. Other DBAPI2 objects are not tested. Please consider using SQLAlchemy.\n",
            "  df = pd.read_sql_query(query_3_4, connection)\n"
          ]
        },
        {
          "data": {
            "text/html": [
              "<div>\n",
              "<style scoped>\n",
              "    .dataframe tbody tr th:only-of-type {\n",
              "        vertical-align: middle;\n",
              "    }\n",
              "\n",
              "    .dataframe tbody tr th {\n",
              "        vertical-align: top;\n",
              "    }\n",
              "\n",
              "    .dataframe thead th {\n",
              "        text-align: right;\n",
              "    }\n",
              "</style>\n",
              "<table border=\"1\" class=\"dataframe\">\n",
              "  <thead>\n",
              "    <tr style=\"text-align: right;\">\n",
              "      <th></th>\n",
              "      <th>count</th>\n",
              "    </tr>\n",
              "  </thead>\n",
              "  <tbody>\n",
              "    <tr>\n",
              "      <th>0</th>\n",
              "      <td>294</td>\n",
              "    </tr>\n",
              "  </tbody>\n",
              "</table>\n",
              "</div>"
            ],
            "text/plain": [
              "   count\n",
              "0    294"
            ]
          },
          "execution_count": 12,
          "metadata": {},
          "output_type": "execute_result"
        }
      ],
      "source": [
        "# результат запроса\n",
        "df = pd.read_sql_query(query_3_4, connection)\n",
        "df"
      ]
    },
    {
      "cell_type": "markdown",
      "id": "9a8a2181-6914-448b-85f1-38f5f18b8a93",
      "metadata": {
        "id": "9a8a2181-6914-448b-85f1-38f5f18b8a93"
      },
      "source": [
        "***"
      ]
    },
    {
      "attachments": {},
      "cell_type": "markdown",
      "id": "b74ffd4c",
      "metadata": {},
      "source": [
        "### Выводы по предварительному анализу данных\n",
        "По предварительным результатам можно сказать, что обхват нашей базы данных достаточно большой: в ней собрано множество данных по исследуемым признакам(регионы, сферы деятельности, работодатели и вакансии). Поэтому можно ожидать исчерпывающих ответов на любые поставленные вопросы."
      ]
    },
    {
      "cell_type": "markdown",
      "id": "8d62a9f3-f64e-4fe7-bdac-c4dffa16155e",
      "metadata": {
        "id": "8d62a9f3-f64e-4fe7-bdac-c4dffa16155e"
      },
      "source": [
        "# Юнит 4. Детальный анализ вакансий"
      ]
    },
    {
      "cell_type": "markdown",
      "id": "93053d3d-b284-481a-9cf7-012d7014c0e0",
      "metadata": {
        "id": "93053d3d-b284-481a-9cf7-012d7014c0e0"
      },
      "source": [
        "1. Напишите запрос, который позволит узнать, сколько (cnt) вакансий в каждом регионе (area).\n",
        "Отсортируйте по количеству вакансий в порядке убывания."
      ]
    },
    {
      "cell_type": "code",
      "execution_count": 13,
      "id": "3f069da6-fdc9-4ae7-b514-fafe2675efd3",
      "metadata": {
        "id": "3f069da6-fdc9-4ae7-b514-fafe2675efd3"
      },
      "outputs": [],
      "source": [
        "# текст запроса\n",
        "query_4_1 = f'''\n",
        "SELECT DISTINCT\n",
        "    a.name \"Город\",\n",
        "    count(v.id) \"Кол-во вакансий\"\n",
        "FROM areas a\n",
        "    JOIN vacancies v ON v.area_id = a.id\n",
        "GROUP BY a.id\n",
        "ORDER BY 2 DESC\n",
        "LIMIT 5\n",
        "'''"
      ]
    },
    {
      "cell_type": "code",
      "execution_count": 14,
      "id": "P7QL86hrjhRJ",
      "metadata": {
        "id": "P7QL86hrjhRJ"
      },
      "outputs": [
        {
          "name": "stderr",
          "output_type": "stream",
          "text": [
            "/tmp/ipykernel_4042906/2457173557.py:2: UserWarning: pandas only supports SQLAlchemy connectable (engine/connection) or database string URI or sqlite3 DBAPI2 connection. Other DBAPI2 objects are not tested. Please consider using SQLAlchemy.\n",
            "  df = pd.read_sql_query(query_4_1, connection)\n"
          ]
        },
        {
          "data": {
            "text/html": [
              "<div>\n",
              "<style scoped>\n",
              "    .dataframe tbody tr th:only-of-type {\n",
              "        vertical-align: middle;\n",
              "    }\n",
              "\n",
              "    .dataframe tbody tr th {\n",
              "        vertical-align: top;\n",
              "    }\n",
              "\n",
              "    .dataframe thead th {\n",
              "        text-align: right;\n",
              "    }\n",
              "</style>\n",
              "<table border=\"1\" class=\"dataframe\">\n",
              "  <thead>\n",
              "    <tr style=\"text-align: right;\">\n",
              "      <th></th>\n",
              "      <th>Город</th>\n",
              "      <th>Кол-во вакансий</th>\n",
              "    </tr>\n",
              "  </thead>\n",
              "  <tbody>\n",
              "    <tr>\n",
              "      <th>0</th>\n",
              "      <td>Москва</td>\n",
              "      <td>5333</td>\n",
              "    </tr>\n",
              "    <tr>\n",
              "      <th>1</th>\n",
              "      <td>Санкт-Петербург</td>\n",
              "      <td>2851</td>\n",
              "    </tr>\n",
              "    <tr>\n",
              "      <th>2</th>\n",
              "      <td>Минск</td>\n",
              "      <td>2112</td>\n",
              "    </tr>\n",
              "    <tr>\n",
              "      <th>3</th>\n",
              "      <td>Новосибирск</td>\n",
              "      <td>2006</td>\n",
              "    </tr>\n",
              "    <tr>\n",
              "      <th>4</th>\n",
              "      <td>Алматы</td>\n",
              "      <td>1892</td>\n",
              "    </tr>\n",
              "  </tbody>\n",
              "</table>\n",
              "</div>"
            ],
            "text/plain": [
              "             Город  Кол-во вакансий\n",
              "0           Москва             5333\n",
              "1  Санкт-Петербург             2851\n",
              "2            Минск             2112\n",
              "3      Новосибирск             2006\n",
              "4           Алматы             1892"
            ]
          },
          "execution_count": 14,
          "metadata": {},
          "output_type": "execute_result"
        }
      ],
      "source": [
        "# результат запроса\n",
        "df = pd.read_sql_query(query_4_1, connection)\n",
        "df"
      ]
    },
    {
      "cell_type": "markdown",
      "id": "4266f0b6-1646-492a-88b4-2f6a46502135",
      "metadata": {
        "id": "4266f0b6-1646-492a-88b4-2f6a46502135"
      },
      "source": [
        "2. Напишите запрос, чтобы определить у какого количества вакансий заполнено хотя бы одно из двух полей с зарплатой."
      ]
    },
    {
      "cell_type": "code",
      "execution_count": 15,
      "id": "0c44b350-72eb-4d65-8b54-a1fc449ba9fd",
      "metadata": {
        "id": "0c44b350-72eb-4d65-8b54-a1fc449ba9fd"
      },
      "outputs": [],
      "source": [
        "# текст запроса\n",
        "query_4_2 = f'''\n",
        "SELECT \n",
        "    count(id) \"Количество вакансий, где заполнено хотя бы одно поле с ЗП\"\n",
        "FROM vacancies\n",
        "WHERE salary_from IS NOT NULL OR salary_to IS NOT NULL\n",
        "'''"
      ]
    },
    {
      "cell_type": "code",
      "execution_count": 16,
      "id": "rhvwaMDkoWTi",
      "metadata": {
        "id": "rhvwaMDkoWTi"
      },
      "outputs": [
        {
          "name": "stderr",
          "output_type": "stream",
          "text": [
            "/tmp/ipykernel_4042906/970655580.py:2: UserWarning: pandas only supports SQLAlchemy connectable (engine/connection) or database string URI or sqlite3 DBAPI2 connection. Other DBAPI2 objects are not tested. Please consider using SQLAlchemy.\n",
            "  df = pd.read_sql_query(query_4_2, connection)\n"
          ]
        },
        {
          "data": {
            "text/html": [
              "<div>\n",
              "<style scoped>\n",
              "    .dataframe tbody tr th:only-of-type {\n",
              "        vertical-align: middle;\n",
              "    }\n",
              "\n",
              "    .dataframe tbody tr th {\n",
              "        vertical-align: top;\n",
              "    }\n",
              "\n",
              "    .dataframe thead th {\n",
              "        text-align: right;\n",
              "    }\n",
              "</style>\n",
              "<table border=\"1\" class=\"dataframe\">\n",
              "  <thead>\n",
              "    <tr style=\"text-align: right;\">\n",
              "      <th></th>\n",
              "      <th>Количество вакансий, где заполнен</th>\n",
              "    </tr>\n",
              "  </thead>\n",
              "  <tbody>\n",
              "    <tr>\n",
              "      <th>0</th>\n",
              "      <td>24073</td>\n",
              "    </tr>\n",
              "  </tbody>\n",
              "</table>\n",
              "</div>"
            ],
            "text/plain": [
              "   Количество вакансий, где заполнен\n",
              "0                              24073"
            ]
          },
          "execution_count": 16,
          "metadata": {},
          "output_type": "execute_result"
        }
      ],
      "source": [
        "# результат запроса\n",
        "df = pd.read_sql_query(query_4_2, connection)\n",
        "df"
      ]
    },
    {
      "cell_type": "markdown",
      "id": "635c4d5d-f323-4c66-b428-50a088120aa0",
      "metadata": {
        "id": "635c4d5d-f323-4c66-b428-50a088120aa0"
      },
      "source": [
        "3. Найдите средние значения для нижней и верхней границы зарплатной вилки. Округлите значения до целого."
      ]
    },
    {
      "cell_type": "code",
      "execution_count": 17,
      "id": "603cdbe4-0ec3-4106-8eaf-c73fcdd29165",
      "metadata": {
        "id": "603cdbe4-0ec3-4106-8eaf-c73fcdd29165"
      },
      "outputs": [],
      "source": [
        "# текст запроса\n",
        "query_4_3 = f'''\n",
        "SELECT \n",
        "    round(AVG(salary_from),0) \"Среднее нижнее\",\n",
        "    round(AVG(salary_to),0) \"Среднее верхнее\"\n",
        "FROM vacancies\n",
        "'''"
      ]
    },
    {
      "cell_type": "code",
      "execution_count": 18,
      "id": "pswpAb66ovZZ",
      "metadata": {
        "id": "pswpAb66ovZZ"
      },
      "outputs": [
        {
          "name": "stderr",
          "output_type": "stream",
          "text": [
            "/tmp/ipykernel_4042906/2500607024.py:2: UserWarning: pandas only supports SQLAlchemy connectable (engine/connection) or database string URI or sqlite3 DBAPI2 connection. Other DBAPI2 objects are not tested. Please consider using SQLAlchemy.\n",
            "  df = pd.read_sql_query(query_4_3, connection)\n"
          ]
        },
        {
          "data": {
            "text/html": [
              "<div>\n",
              "<style scoped>\n",
              "    .dataframe tbody tr th:only-of-type {\n",
              "        vertical-align: middle;\n",
              "    }\n",
              "\n",
              "    .dataframe tbody tr th {\n",
              "        vertical-align: top;\n",
              "    }\n",
              "\n",
              "    .dataframe thead th {\n",
              "        text-align: right;\n",
              "    }\n",
              "</style>\n",
              "<table border=\"1\" class=\"dataframe\">\n",
              "  <thead>\n",
              "    <tr style=\"text-align: right;\">\n",
              "      <th></th>\n",
              "      <th>Среднее нижнее</th>\n",
              "      <th>Среднее верхнее</th>\n",
              "    </tr>\n",
              "  </thead>\n",
              "  <tbody>\n",
              "    <tr>\n",
              "      <th>0</th>\n",
              "      <td>71065.0</td>\n",
              "      <td>110537.0</td>\n",
              "    </tr>\n",
              "  </tbody>\n",
              "</table>\n",
              "</div>"
            ],
            "text/plain": [
              "   Среднее нижнее  Среднее верхнее\n",
              "0         71065.0         110537.0"
            ]
          },
          "execution_count": 18,
          "metadata": {},
          "output_type": "execute_result"
        }
      ],
      "source": [
        "# результат запроса\n",
        "df = pd.read_sql_query(query_4_3, connection)\n",
        "df"
      ]
    },
    {
      "cell_type": "markdown",
      "id": "f3fdaec9-5fd3-4260-9cf5-1d7406b628a5",
      "metadata": {
        "id": "f3fdaec9-5fd3-4260-9cf5-1d7406b628a5"
      },
      "source": [
        "4. Напишите запрос, который выведет количество вакансий для каждого сочетания типа рабочего графика (schedule) и типа трудоустройства (employment), используемого в вакансиях. Результат отсортируйте по убыванию количества.\n"
      ]
    },
    {
      "cell_type": "code",
      "execution_count": 19,
      "id": "1ea710ec-871b-431e-9462-c7d0fd87011b",
      "metadata": {
        "id": "1ea710ec-871b-431e-9462-c7d0fd87011b"
      },
      "outputs": [],
      "source": [
        "# текст запроса\n",
        "query_4_4 = f'''\n",
        "SELECT DISTINCT\n",
        "    schedule \"Рабочий график\",\n",
        "    employment \"Тип трудоустройства\",\n",
        "    count(id) \"Кол-во вакансий\"\n",
        "FROM vacancies\n",
        "GROUP BY schedule, employment\n",
        "ORDER BY 3 DESC\n",
        "'''"
      ]
    },
    {
      "cell_type": "code",
      "execution_count": 20,
      "id": "lGUVqavdo4JQ",
      "metadata": {
        "id": "lGUVqavdo4JQ"
      },
      "outputs": [
        {
          "name": "stderr",
          "output_type": "stream",
          "text": [
            "/tmp/ipykernel_4042906/2022935265.py:2: UserWarning: pandas only supports SQLAlchemy connectable (engine/connection) or database string URI or sqlite3 DBAPI2 connection. Other DBAPI2 objects are not tested. Please consider using SQLAlchemy.\n",
            "  df = pd.read_sql_query(query_4_4, connection)\n"
          ]
        },
        {
          "data": {
            "text/html": [
              "<div>\n",
              "<style scoped>\n",
              "    .dataframe tbody tr th:only-of-type {\n",
              "        vertical-align: middle;\n",
              "    }\n",
              "\n",
              "    .dataframe tbody tr th {\n",
              "        vertical-align: top;\n",
              "    }\n",
              "\n",
              "    .dataframe thead th {\n",
              "        text-align: right;\n",
              "    }\n",
              "</style>\n",
              "<table border=\"1\" class=\"dataframe\">\n",
              "  <thead>\n",
              "    <tr style=\"text-align: right;\">\n",
              "      <th></th>\n",
              "      <th>Рабочий график</th>\n",
              "      <th>Тип трудоустройства</th>\n",
              "      <th>Кол-во вакансий</th>\n",
              "    </tr>\n",
              "  </thead>\n",
              "  <tbody>\n",
              "    <tr>\n",
              "      <th>0</th>\n",
              "      <td>Полный день</td>\n",
              "      <td>Полная занятость</td>\n",
              "      <td>35367</td>\n",
              "    </tr>\n",
              "    <tr>\n",
              "      <th>1</th>\n",
              "      <td>Удаленная работа</td>\n",
              "      <td>Полная занятость</td>\n",
              "      <td>7802</td>\n",
              "    </tr>\n",
              "    <tr>\n",
              "      <th>2</th>\n",
              "      <td>Гибкий график</td>\n",
              "      <td>Полная занятость</td>\n",
              "      <td>1593</td>\n",
              "    </tr>\n",
              "    <tr>\n",
              "      <th>3</th>\n",
              "      <td>Удаленная работа</td>\n",
              "      <td>Частичная занятость</td>\n",
              "      <td>1312</td>\n",
              "    </tr>\n",
              "    <tr>\n",
              "      <th>4</th>\n",
              "      <td>Сменный график</td>\n",
              "      <td>Полная занятость</td>\n",
              "      <td>940</td>\n",
              "    </tr>\n",
              "    <tr>\n",
              "      <th>5</th>\n",
              "      <td>Полный день</td>\n",
              "      <td>Стажировка</td>\n",
              "      <td>569</td>\n",
              "    </tr>\n",
              "    <tr>\n",
              "      <th>6</th>\n",
              "      <td>Вахтовый метод</td>\n",
              "      <td>Полная занятость</td>\n",
              "      <td>367</td>\n",
              "    </tr>\n",
              "    <tr>\n",
              "      <th>7</th>\n",
              "      <td>Полный день</td>\n",
              "      <td>Частичная занятость</td>\n",
              "      <td>347</td>\n",
              "    </tr>\n",
              "    <tr>\n",
              "      <th>8</th>\n",
              "      <td>Гибкий график</td>\n",
              "      <td>Частичная занятость</td>\n",
              "      <td>312</td>\n",
              "    </tr>\n",
              "    <tr>\n",
              "      <th>9</th>\n",
              "      <td>Полный день</td>\n",
              "      <td>Проектная работа</td>\n",
              "      <td>141</td>\n",
              "    </tr>\n",
              "    <tr>\n",
              "      <th>10</th>\n",
              "      <td>Удаленная работа</td>\n",
              "      <td>Проектная работа</td>\n",
              "      <td>133</td>\n",
              "    </tr>\n",
              "    <tr>\n",
              "      <th>11</th>\n",
              "      <td>Гибкий график</td>\n",
              "      <td>Стажировка</td>\n",
              "      <td>116</td>\n",
              "    </tr>\n",
              "    <tr>\n",
              "      <th>12</th>\n",
              "      <td>Сменный график</td>\n",
              "      <td>Частичная занятость</td>\n",
              "      <td>101</td>\n",
              "    </tr>\n",
              "    <tr>\n",
              "      <th>13</th>\n",
              "      <td>Удаленная работа</td>\n",
              "      <td>Стажировка</td>\n",
              "      <td>64</td>\n",
              "    </tr>\n",
              "    <tr>\n",
              "      <th>14</th>\n",
              "      <td>Гибкий график</td>\n",
              "      <td>Проектная работа</td>\n",
              "      <td>18</td>\n",
              "    </tr>\n",
              "    <tr>\n",
              "      <th>15</th>\n",
              "      <td>Сменный график</td>\n",
              "      <td>Стажировка</td>\n",
              "      <td>12</td>\n",
              "    </tr>\n",
              "    <tr>\n",
              "      <th>16</th>\n",
              "      <td>Вахтовый метод</td>\n",
              "      <td>Проектная работа</td>\n",
              "      <td>2</td>\n",
              "    </tr>\n",
              "    <tr>\n",
              "      <th>17</th>\n",
              "      <td>Сменный график</td>\n",
              "      <td>Проектная работа</td>\n",
              "      <td>1</td>\n",
              "    </tr>\n",
              "  </tbody>\n",
              "</table>\n",
              "</div>"
            ],
            "text/plain": [
              "      Рабочий график  Тип трудоустройства  Кол-во вакансий\n",
              "0        Полный день     Полная занятость            35367\n",
              "1   Удаленная работа     Полная занятость             7802\n",
              "2      Гибкий график     Полная занятость             1593\n",
              "3   Удаленная работа  Частичная занятость             1312\n",
              "4     Сменный график     Полная занятость              940\n",
              "5        Полный день           Стажировка              569\n",
              "6     Вахтовый метод     Полная занятость              367\n",
              "7        Полный день  Частичная занятость              347\n",
              "8      Гибкий график  Частичная занятость              312\n",
              "9        Полный день     Проектная работа              141\n",
              "10  Удаленная работа     Проектная работа              133\n",
              "11     Гибкий график           Стажировка              116\n",
              "12    Сменный график  Частичная занятость              101\n",
              "13  Удаленная работа           Стажировка               64\n",
              "14     Гибкий график     Проектная работа               18\n",
              "15    Сменный график           Стажировка               12\n",
              "16    Вахтовый метод     Проектная работа                2\n",
              "17    Сменный график     Проектная работа                1"
            ]
          },
          "execution_count": 20,
          "metadata": {},
          "output_type": "execute_result"
        }
      ],
      "source": [
        "# результат запроса\n",
        "df = pd.read_sql_query(query_4_4, connection)\n",
        "df"
      ]
    },
    {
      "cell_type": "code",
      "execution_count": 21,
      "id": "e6035cd6",
      "metadata": {},
      "outputs": [
        {
          "data": {
            "text/plain": [
              "Text(0.5, 1.0, 'Количество вакансий для каждого сочетания типа рабочего графика и типа трудоустройства.')"
            ]
          },
          "execution_count": 21,
          "metadata": {},
          "output_type": "execute_result"
        },
        {
          "data": {
            "image/png": "[encoded data removed]",
            "text/plain": [
              "<Figure size 640x480 with 2 Axes>"
            ]
          },
          "metadata": {},
          "output_type": "display_data"
        }
      ],
      "source": [
        "pivot = df.pivot_table(\n",
        "    values='Кол-во вакансий',\n",
        "    columns='Рабочий график',\n",
        "    index='Тип трудоустройства'\n",
        ")\n",
        "pivot.columns = pivot.columns.astype('string')\n",
        "#display(pivot)\n",
        "\n",
        "heatmap = sns.heatmap(data=pivot, cmap='YlGnBu',annot=True)\n",
        "heatmap.set_title('Количество вакансий для каждого сочетания типа рабочего графика и типа трудоустройства.')"
      ]
    },
    {
      "cell_type": "markdown",
      "id": "0136ffee-0ead-4a6b-b608-61d1c753a438",
      "metadata": {
        "id": "0136ffee-0ead-4a6b-b608-61d1c753a438"
      },
      "source": [
        "5. Напишите запрос, выводящий значения поля Требуемый опыт работы (experience) в порядке возрастания количества вакансий, в которых указан данный вариант опыта. "
      ]
    },
    {
      "cell_type": "code",
      "execution_count": 22,
      "id": "5b3a8e79-f7ab-4008-b767-12aea3a205ea",
      "metadata": {
        "id": "5b3a8e79-f7ab-4008-b767-12aea3a205ea"
      },
      "outputs": [],
      "source": [
        "# текст запроса\n",
        "query_4_5 = f'''\n",
        "SELECT DISTINCT\n",
        "    experience \"Опыт\",\n",
        "    count(id) \"Кол-во вакансий\"\n",
        "FROM vacancies\n",
        "GROUP BY experience\n",
        "ORDER BY 2\n",
        "'''"
      ]
    },
    {
      "cell_type": "code",
      "execution_count": 23,
      "id": "3Is64Y-hpDpq",
      "metadata": {
        "id": "3Is64Y-hpDpq"
      },
      "outputs": [
        {
          "name": "stderr",
          "output_type": "stream",
          "text": [
            "/tmp/ipykernel_4042906/2316260449.py:2: UserWarning: pandas only supports SQLAlchemy connectable (engine/connection) or database string URI or sqlite3 DBAPI2 connection. Other DBAPI2 objects are not tested. Please consider using SQLAlchemy.\n",
            "  df = pd.read_sql_query(query_4_5, connection)\n"
          ]
        },
        {
          "data": {
            "text/html": [
              "<div>\n",
              "<style scoped>\n",
              "    .dataframe tbody tr th:only-of-type {\n",
              "        vertical-align: middle;\n",
              "    }\n",
              "\n",
              "    .dataframe tbody tr th {\n",
              "        vertical-align: top;\n",
              "    }\n",
              "\n",
              "    .dataframe thead th {\n",
              "        text-align: right;\n",
              "    }\n",
              "</style>\n",
              "<table border=\"1\" class=\"dataframe\">\n",
              "  <thead>\n",
              "    <tr style=\"text-align: right;\">\n",
              "      <th></th>\n",
              "      <th>Опыт</th>\n",
              "      <th>Кол-во вакансий</th>\n",
              "    </tr>\n",
              "  </thead>\n",
              "  <tbody>\n",
              "    <tr>\n",
              "      <th>0</th>\n",
              "      <td>Более 6 лет</td>\n",
              "      <td>1337</td>\n",
              "    </tr>\n",
              "    <tr>\n",
              "      <th>1</th>\n",
              "      <td>Нет опыта</td>\n",
              "      <td>7197</td>\n",
              "    </tr>\n",
              "    <tr>\n",
              "      <th>2</th>\n",
              "      <td>От 3 до 6 лет</td>\n",
              "      <td>14511</td>\n",
              "    </tr>\n",
              "    <tr>\n",
              "      <th>3</th>\n",
              "      <td>От 1 года до 3 лет</td>\n",
              "      <td>26152</td>\n",
              "    </tr>\n",
              "  </tbody>\n",
              "</table>\n",
              "</div>"
            ],
            "text/plain": [
              "                 Опыт  Кол-во вакансий\n",
              "0         Более 6 лет             1337\n",
              "1           Нет опыта             7197\n",
              "2       От 3 до 6 лет            14511\n",
              "3  От 1 года до 3 лет            26152"
            ]
          },
          "execution_count": 23,
          "metadata": {},
          "output_type": "execute_result"
        }
      ],
      "source": [
        "# результат запроса\n",
        "df = pd.read_sql_query(query_4_5, connection)\n",
        "df"
      ]
    },
    {
      "cell_type": "code",
      "execution_count": 24,
      "id": "5008bb99",
      "metadata": {},
      "outputs": [
        {
          "data": {
            "image/png": "[encoded data removed]"
          },
          "metadata": {},
          "output_type": "display_data"
        }
      ],
      "source": [
        "fig = px.bar(\n",
        "    data_frame = df,\n",
        "    x='Кол-во вакансий',\n",
        "    y='Опыт',\n",
        "    title='Кол-во вакансий в зависимости от опыта работы'\n",
        ")\n",
        "\n",
        "fig.show(\"png\")"
      ]
    },
    {
      "cell_type": "markdown",
      "id": "oq2b7n1QpIka",
      "metadata": {
        "id": "oq2b7n1QpIka"
      },
      "source": [
        "***"
      ]
    },
    {
      "attachments": {},
      "cell_type": "markdown",
      "id": "e91f87ed-e25c-4f96-9f92-b642e8c0b4fa",
      "metadata": {
        "id": "e91f87ed-e25c-4f96-9f92-b642e8c0b4fa"
      },
      "source": [
        "### Выводы по детальному анализу вакансий\n",
        "\n",
        "* В результате более расширенного анализа мы выяснили, что половина вакансий вывешены без указания уровня ЗП. \n",
        "* Подавляющее большинство вакансий ориентированы на полную занятость с полным рабочим днём. В качестве небольшой альтернативы можно рассматривать полную занятость вкупе с удалёнкой. \n",
        "* Большинство соискателей имеют опыт работы от года до трёх. На следующем месте идут соискатели с опытом от трёх до шести лет. Это объясняется тем, что в большинстве случаев программисту хватает периода до трёх лет, чтоб полностью освоится на текущем уровне и иметь достаточно знаний, чтоб идти дальше.\n",
        "* Нижняя и верхняя границы ЗП соответственно равны: 71 065 р. и\t110 537 р.\n",
        "* Большая часть вакансий расположены в крупных городах. Это связано с более высоким уровнем жизни в больших городах."
      ]
    },
    {
      "cell_type": "markdown",
      "id": "7ea20ab6-04a7-40a0-adec-443a0e5a42c3",
      "metadata": {
        "id": "7ea20ab6-04a7-40a0-adec-443a0e5a42c3"
      },
      "source": [
        "# Юнит 5. Анализ работодателей"
      ]
    },
    {
      "cell_type": "markdown",
      "id": "968aed80-74ef-4ffb-b5bf-c65b84e9caea",
      "metadata": {
        "id": "968aed80-74ef-4ffb-b5bf-c65b84e9caea"
      },
      "source": [
        "1. Напишите запрос, который позволит узнать, какие работодатели находятся на первом и пятом месте по количеству вакансий."
      ]
    },
    {
      "cell_type": "code",
      "execution_count": 25,
      "id": "f2d62796-d400-4ec1-a675-88112739a50e",
      "metadata": {
        "id": "f2d62796-d400-4ec1-a675-88112739a50e"
      },
      "outputs": [],
      "source": [
        "# текст запроса\n",
        "query_5_1 = f'''\n",
        "(SELECT DISTINCT\n",
        "    e.name \"Работодатель\",\n",
        "    count(v.id) \"Вакансии\"\n",
        "FROM employers e\n",
        "    JOIN vacancies v ON v.employer_id = e.id\n",
        "GROUP BY e.id\n",
        "ORDER BY 2 DESC\n",
        "LIMIT 1)\n",
        "\n",
        "UNION\n",
        "\n",
        "(SELECT DISTINCT\n",
        "    e.name \"Работодатель\",\n",
        "    count(v.id) \"Вакансии\"\n",
        "FROM employers e\n",
        "    JOIN vacancies v ON v.employer_id = e.id\n",
        "GROUP BY e.id\n",
        "ORDER BY 2 DESC\n",
        "OFFSET 4\n",
        "LIMIT 1)\n",
        "'''"
      ]
    },
    {
      "cell_type": "code",
      "execution_count": 26,
      "id": "64tOMkAxqkQk",
      "metadata": {
        "id": "64tOMkAxqkQk"
      },
      "outputs": [
        {
          "name": "stderr",
          "output_type": "stream",
          "text": [
            "/tmp/ipykernel_4042906/3834399874.py:2: UserWarning:\n",
            "\n",
            "pandas only supports SQLAlchemy connectable (engine/connection) or database string URI or sqlite3 DBAPI2 connection. Other DBAPI2 objects are not tested. Please consider using SQLAlchemy.\n",
            "\n"
          ]
        },
        {
          "data": {
            "text/html": [
              "<div>\n",
              "<style scoped>\n",
              "    .dataframe tbody tr th:only-of-type {\n",
              "        vertical-align: middle;\n",
              "    }\n",
              "\n",
              "    .dataframe tbody tr th {\n",
              "        vertical-align: top;\n",
              "    }\n",
              "\n",
              "    .dataframe thead th {\n",
              "        text-align: right;\n",
              "    }\n",
              "</style>\n",
              "<table border=\"1\" class=\"dataframe\">\n",
              "  <thead>\n",
              "    <tr style=\"text-align: right;\">\n",
              "      <th></th>\n",
              "      <th>Работодатель</th>\n",
              "      <th>Вакансии</th>\n",
              "    </tr>\n",
              "  </thead>\n",
              "  <tbody>\n",
              "    <tr>\n",
              "      <th>0</th>\n",
              "      <td>Газпром нефть</td>\n",
              "      <td>331</td>\n",
              "    </tr>\n",
              "    <tr>\n",
              "      <th>1</th>\n",
              "      <td>Яндекс</td>\n",
              "      <td>1933</td>\n",
              "    </tr>\n",
              "  </tbody>\n",
              "</table>\n",
              "</div>"
            ],
            "text/plain": [
              "    Работодатель  Вакансии\n",
              "0  Газпром нефть       331\n",
              "1         Яндекс      1933"
            ]
          },
          "execution_count": 26,
          "metadata": {},
          "output_type": "execute_result"
        }
      ],
      "source": [
        "# результат запроса\n",
        "df = pd.read_sql_query(query_5_1, connection)\n",
        "df"
      ]
    },
    {
      "cell_type": "markdown",
      "id": "68377cfc-b378-43dc-ab7d-1195abf2c515",
      "metadata": {
        "id": "68377cfc-b378-43dc-ab7d-1195abf2c515"
      },
      "source": [
        "2. Напишите запрос, который для каждого региона выведет количество работодателей и вакансий в нём.\n",
        "Среди регионов, в которых нет вакансий, найдите тот, в котором наибольшее количество работодателей.\n"
      ]
    },
    {
      "cell_type": "code",
      "execution_count": 27,
      "id": "fbda0d82",
      "metadata": {},
      "outputs": [],
      "source": [
        "# текст запроса, который для каждого региона выведет количество работодателей и вакансий в нём.\n",
        "query_5_2_1 = f'''\n",
        "SELECT DISTINCT\n",
        "    a.name \"Регион\",\n",
        "    count(DISTINCT e.id) \"Работодатели\",\n",
        "    count(v.id) \"Вакансии\"\n",
        "FROM areas a\n",
        "    JOIN vacancies v ON v.area_id = a.id\n",
        "    JOIN employers e ON e.id = v.employer_id\n",
        "GROUP BY a.id\n",
        "ORDER BY 2 DESC\n",
        "'''"
      ]
    },
    {
      "cell_type": "code",
      "execution_count": 28,
      "id": "69ac5c2a",
      "metadata": {},
      "outputs": [
        {
          "name": "stderr",
          "output_type": "stream",
          "text": [
            "/tmp/ipykernel_4042906/3637954458.py:2: UserWarning:\n",
            "\n",
            "pandas only supports SQLAlchemy connectable (engine/connection) or database string URI or sqlite3 DBAPI2 connection. Other DBAPI2 objects are not tested. Please consider using SQLAlchemy.\n",
            "\n"
          ]
        },
        {
          "data": {
            "text/html": [
              "<div>\n",
              "<style scoped>\n",
              "    .dataframe tbody tr th:only-of-type {\n",
              "        vertical-align: middle;\n",
              "    }\n",
              "\n",
              "    .dataframe tbody tr th {\n",
              "        vertical-align: top;\n",
              "    }\n",
              "\n",
              "    .dataframe thead th {\n",
              "        text-align: right;\n",
              "    }\n",
              "</style>\n",
              "<table border=\"1\" class=\"dataframe\">\n",
              "  <thead>\n",
              "    <tr style=\"text-align: right;\">\n",
              "      <th></th>\n",
              "      <th>Регион</th>\n",
              "      <th>Работодатели</th>\n",
              "      <th>Вакансии</th>\n",
              "    </tr>\n",
              "  </thead>\n",
              "  <tbody>\n",
              "    <tr>\n",
              "      <th>0</th>\n",
              "      <td>Москва</td>\n",
              "      <td>2320</td>\n",
              "      <td>5333</td>\n",
              "    </tr>\n",
              "    <tr>\n",
              "      <th>1</th>\n",
              "      <td>Санкт-Петербург</td>\n",
              "      <td>1451</td>\n",
              "      <td>2851</td>\n",
              "    </tr>\n",
              "    <tr>\n",
              "      <th>2</th>\n",
              "      <td>Минск</td>\n",
              "      <td>851</td>\n",
              "      <td>2112</td>\n",
              "    </tr>\n",
              "    <tr>\n",
              "      <th>3</th>\n",
              "      <td>Новосибирск</td>\n",
              "      <td>802</td>\n",
              "      <td>2006</td>\n",
              "    </tr>\n",
              "    <tr>\n",
              "      <th>4</th>\n",
              "      <td>Алматы</td>\n",
              "      <td>798</td>\n",
              "      <td>1892</td>\n",
              "    </tr>\n",
              "    <tr>\n",
              "      <th>...</th>\n",
              "      <td>...</td>\n",
              "      <td>...</td>\n",
              "      <td>...</td>\n",
              "    </tr>\n",
              "    <tr>\n",
              "      <th>764</th>\n",
              "      <td>Электроугли</td>\n",
              "      <td>1</td>\n",
              "      <td>1</td>\n",
              "    </tr>\n",
              "    <tr>\n",
              "      <th>765</th>\n",
              "      <td>Эртиль</td>\n",
              "      <td>1</td>\n",
              "      <td>1</td>\n",
              "    </tr>\n",
              "    <tr>\n",
              "      <th>766</th>\n",
              "      <td>Юрга</td>\n",
              "      <td>1</td>\n",
              "      <td>1</td>\n",
              "    </tr>\n",
              "    <tr>\n",
              "      <th>767</th>\n",
              "      <td>Яблоновский (Республика Адыгея)</td>\n",
              "      <td>1</td>\n",
              "      <td>2</td>\n",
              "    </tr>\n",
              "    <tr>\n",
              "      <th>768</th>\n",
              "      <td>Яя</td>\n",
              "      <td>1</td>\n",
              "      <td>1</td>\n",
              "    </tr>\n",
              "  </tbody>\n",
              "</table>\n",
              "<p>769 rows × 3 columns</p>\n",
              "</div>"
            ],
            "text/plain": [
              "                              Регион  Работодатели  Вакансии\n",
              "0                             Москва          2320      5333\n",
              "1                    Санкт-Петербург          1451      2851\n",
              "2                              Минск           851      2112\n",
              "3                        Новосибирск           802      2006\n",
              "4                             Алматы           798      1892\n",
              "..                               ...           ...       ...\n",
              "764                      Электроугли             1         1\n",
              "765                           Эртиль             1         1\n",
              "766                             Юрга             1         1\n",
              "767  Яблоновский (Республика Адыгея)             1         2\n",
              "768                               Яя             1         1\n",
              "\n",
              "[769 rows x 3 columns]"
            ]
          },
          "execution_count": 28,
          "metadata": {},
          "output_type": "execute_result"
        }
      ],
      "source": [
        "# результат запроса\n",
        "df = pd.read_sql_query(query_5_2_1, connection)\n",
        "df"
      ]
    },
    {
      "cell_type": "code",
      "execution_count": 29,
      "id": "0a1ae387",
      "metadata": {},
      "outputs": [
        {
          "data": {
            "image/png": "[encoded data removed]"
          },
          "metadata": {},
          "output_type": "display_data"
        }
      ],
      "source": [
        "fig = go.Figure()\n",
        "\n",
        "fig.add_trace(go.Bar(\n",
        "    x=df[df['Работодатели']>400]['Регион'],\n",
        "    y=df['Работодатели'],\n",
        "    marker_color='red',\n",
        "    name='Кол-во работодателей в зависимости от региона'\n",
        "))\n",
        "fig.add_trace(go.Bar(\n",
        "    x=df[df['Работодатели']>400]['Регион'],\n",
        "    y=df['Вакансии'],\n",
        "    marker_color='blue',\n",
        "    name='Кол-во вакансий в зависимости от региона'\n",
        "))\n",
        "\n",
        "fig.update_layout(barmode='group', xaxis_tickangle=-45)\n",
        "fig.show(\"png\")"
      ]
    },
    {
      "cell_type": "code",
      "execution_count": 30,
      "id": "dd7df27a-e3e8-412e-a21a-5d389b71e891",
      "metadata": {
        "id": "dd7df27a-e3e8-412e-a21a-5d389b71e891"
      },
      "outputs": [],
      "source": [
        "# текст предыдущего запроса, который мы усовершенствовали тем, что теперь ищем самый богатый работодателями регион, в котором нет вакансий\n",
        "query_5_2_2 = f'''\n",
        "SELECT DISTINCT\n",
        "    a.name \"Регион\",\n",
        "    count(e.id) \"Работодатели\"\n",
        "FROM areas a\n",
        "    LEFT JOIN vacancies v ON v.area_id = a.id\n",
        "    LEFT JOIN employers e ON e.area = a.id\n",
        "WHERE v.id is NULL\n",
        "GROUP BY a.id\n",
        "ORDER BY 2 DESC\n",
        "'''"
      ]
    },
    {
      "cell_type": "code",
      "execution_count": 31,
      "id": "x1ikWbydrbf6",
      "metadata": {
        "id": "x1ikWbydrbf6"
      },
      "outputs": [
        {
          "name": "stderr",
          "output_type": "stream",
          "text": [
            "/tmp/ipykernel_4042906/1406114634.py:2: UserWarning:\n",
            "\n",
            "pandas only supports SQLAlchemy connectable (engine/connection) or database string URI or sqlite3 DBAPI2 connection. Other DBAPI2 objects are not tested. Please consider using SQLAlchemy.\n",
            "\n"
          ]
        },
        {
          "data": {
            "text/html": [
              "<div>\n",
              "<style scoped>\n",
              "    .dataframe tbody tr th:only-of-type {\n",
              "        vertical-align: middle;\n",
              "    }\n",
              "\n",
              "    .dataframe tbody tr th {\n",
              "        vertical-align: top;\n",
              "    }\n",
              "\n",
              "    .dataframe thead th {\n",
              "        text-align: right;\n",
              "    }\n",
              "</style>\n",
              "<table border=\"1\" class=\"dataframe\">\n",
              "  <thead>\n",
              "    <tr style=\"text-align: right;\">\n",
              "      <th></th>\n",
              "      <th>Регион</th>\n",
              "      <th>Работодатели</th>\n",
              "    </tr>\n",
              "  </thead>\n",
              "  <tbody>\n",
              "    <tr>\n",
              "      <th>0</th>\n",
              "      <td>Россия</td>\n",
              "      <td>410</td>\n",
              "    </tr>\n",
              "    <tr>\n",
              "      <th>1</th>\n",
              "      <td>Казахстан</td>\n",
              "      <td>207</td>\n",
              "    </tr>\n",
              "    <tr>\n",
              "      <th>2</th>\n",
              "      <td>Московская область</td>\n",
              "      <td>75</td>\n",
              "    </tr>\n",
              "    <tr>\n",
              "      <th>3</th>\n",
              "      <td>Краснодарский край</td>\n",
              "      <td>19</td>\n",
              "    </tr>\n",
              "    <tr>\n",
              "      <th>4</th>\n",
              "      <td>Беларусь</td>\n",
              "      <td>18</td>\n",
              "    </tr>\n",
              "    <tr>\n",
              "      <th>...</th>\n",
              "      <td>...</td>\n",
              "      <td>...</td>\n",
              "    </tr>\n",
              "    <tr>\n",
              "      <th>588</th>\n",
              "      <td>Юрюзань</td>\n",
              "      <td>0</td>\n",
              "    </tr>\n",
              "    <tr>\n",
              "      <th>589</th>\n",
              "      <td>Ямбург (Ямало-Ненецкий АО)</td>\n",
              "      <td>0</td>\n",
              "    </tr>\n",
              "    <tr>\n",
              "      <th>590</th>\n",
              "      <td>Янино-1</td>\n",
              "      <td>0</td>\n",
              "    </tr>\n",
              "    <tr>\n",
              "      <th>591</th>\n",
              "      <td>Ясный (Оренбургская область)</td>\n",
              "      <td>0</td>\n",
              "    </tr>\n",
              "    <tr>\n",
              "      <th>592</th>\n",
              "      <td>Яшкино</td>\n",
              "      <td>0</td>\n",
              "    </tr>\n",
              "  </tbody>\n",
              "</table>\n",
              "<p>593 rows × 2 columns</p>\n",
              "</div>"
            ],
            "text/plain": [
              "                           Регион  Работодатели\n",
              "0                          Россия           410\n",
              "1                       Казахстан           207\n",
              "2              Московская область            75\n",
              "3              Краснодарский край            19\n",
              "4                        Беларусь            18\n",
              "..                            ...           ...\n",
              "588                       Юрюзань             0\n",
              "589    Ямбург (Ямало-Ненецкий АО)             0\n",
              "590                       Янино-1             0\n",
              "591  Ясный (Оренбургская область)             0\n",
              "592                        Яшкино             0\n",
              "\n",
              "[593 rows x 2 columns]"
            ]
          },
          "execution_count": 31,
          "metadata": {},
          "output_type": "execute_result"
        }
      ],
      "source": [
        "# результат запроса\n",
        "df = pd.read_sql_query(query_5_2_2, connection)\n",
        "df"
      ]
    },
    {
      "cell_type": "code",
      "execution_count": 32,
      "id": "a8f49c83",
      "metadata": {},
      "outputs": [
        {
          "data": {
            "image/png": "[encoded data removed]"
          },
          "metadata": {},
          "output_type": "display_data"
        }
      ],
      "source": [
        "fig = px.bar(\n",
        "    data_frame = df[df['Работодатели'] > 50],\n",
        "    y='Регион',\n",
        "    x='Работодатели',\n",
        "    title='Медианная з/п в зависимости от образования'\n",
        ")\n",
        "\n",
        "fig.show(\"png\")"
      ]
    },
    {
      "cell_type": "markdown",
      "id": "f2fe0acb-ab1a-4e15-9326-2560e22d73c1",
      "metadata": {
        "id": "f2fe0acb-ab1a-4e15-9326-2560e22d73c1"
      },
      "source": [
        "3. Для каждого работодателя посчитайте количество регионов, в которых он публикует свои вакансии. Отсортируйте результат по убыванию количества.\n"
      ]
    },
    {
      "cell_type": "code",
      "execution_count": 33,
      "id": "6271f8ad-bd2e-4196-ae4a-5b39c4c1010e",
      "metadata": {
        "id": "6271f8ad-bd2e-4196-ae4a-5b39c4c1010e"
      },
      "outputs": [],
      "source": [
        "# текст запроса\n",
        "query_5_3 = f'''\n",
        "SELECT DISTINCT\n",
        "    e.name \"Работодатель\",\n",
        "    count(DISTINCT a.id) \"Регионы\"\n",
        "FROM employers e\n",
        "    LEFT JOIN vacancies v ON v.employer_id = e.id\n",
        "    LEFT JOIN areas a ON v.area_id = a.id\n",
        "GROUP BY e.id\n",
        "ORDER BY 2 DESC\n",
        "'''"
      ]
    },
    {
      "cell_type": "code",
      "execution_count": 34,
      "id": "1EIvX3HasH4F",
      "metadata": {
        "id": "1EIvX3HasH4F"
      },
      "outputs": [
        {
          "name": "stderr",
          "output_type": "stream",
          "text": [
            "/tmp/ipykernel_4042906/201667002.py:2: UserWarning:\n",
            "\n",
            "pandas only supports SQLAlchemy connectable (engine/connection) or database string URI or sqlite3 DBAPI2 connection. Other DBAPI2 objects are not tested. Please consider using SQLAlchemy.\n",
            "\n"
          ]
        },
        {
          "data": {
            "text/html": [
              "<div>\n",
              "<style scoped>\n",
              "    .dataframe tbody tr th:only-of-type {\n",
              "        vertical-align: middle;\n",
              "    }\n",
              "\n",
              "    .dataframe tbody tr th {\n",
              "        vertical-align: top;\n",
              "    }\n",
              "\n",
              "    .dataframe thead th {\n",
              "        text-align: right;\n",
              "    }\n",
              "</style>\n",
              "<table border=\"1\" class=\"dataframe\">\n",
              "  <thead>\n",
              "    <tr style=\"text-align: right;\">\n",
              "      <th></th>\n",
              "      <th>Работодатель</th>\n",
              "      <th>Регионы</th>\n",
              "    </tr>\n",
              "  </thead>\n",
              "  <tbody>\n",
              "    <tr>\n",
              "      <th>0</th>\n",
              "      <td>Яндекс</td>\n",
              "      <td>181</td>\n",
              "    </tr>\n",
              "    <tr>\n",
              "      <th>1</th>\n",
              "      <td>Ростелеком</td>\n",
              "      <td>152</td>\n",
              "    </tr>\n",
              "    <tr>\n",
              "      <th>2</th>\n",
              "      <td>Спецремонт</td>\n",
              "      <td>116</td>\n",
              "    </tr>\n",
              "    <tr>\n",
              "      <th>3</th>\n",
              "      <td>Поляков Денис Иванович</td>\n",
              "      <td>88</td>\n",
              "    </tr>\n",
              "    <tr>\n",
              "      <th>4</th>\n",
              "      <td>ООО ЕФИН</td>\n",
              "      <td>71</td>\n",
              "    </tr>\n",
              "    <tr>\n",
              "      <th>...</th>\n",
              "      <td>...</td>\n",
              "      <td>...</td>\n",
              "    </tr>\n",
              "    <tr>\n",
              "      <th>23336</th>\n",
              "      <td>Ярпож Казань</td>\n",
              "      <td>0</td>\n",
              "    </tr>\n",
              "    <tr>\n",
              "      <th>23337</th>\n",
              "      <td>ЯРСНИП</td>\n",
              "      <td>0</td>\n",
              "    </tr>\n",
              "    <tr>\n",
              "      <th>23338</th>\n",
              "      <td>Ясли-сад № 28 г.Минска</td>\n",
              "      <td>0</td>\n",
              "    </tr>\n",
              "    <tr>\n",
              "      <th>23339</th>\n",
              "      <td>Яшин&amp;Партнёры</td>\n",
              "      <td>0</td>\n",
              "    </tr>\n",
              "    <tr>\n",
              "      <th>23340</th>\n",
              "      <td>Яшнова Алена Викторовна</td>\n",
              "      <td>0</td>\n",
              "    </tr>\n",
              "  </tbody>\n",
              "</table>\n",
              "<p>23341 rows × 2 columns</p>\n",
              "</div>"
            ],
            "text/plain": [
              "                  Работодатель  Регионы\n",
              "0                       Яндекс      181\n",
              "1                   Ростелеком      152\n",
              "2                   Спецремонт      116\n",
              "3       Поляков Денис Иванович       88\n",
              "4                    ООО ЕФИН        71\n",
              "...                        ...      ...\n",
              "23336             Ярпож Казань        0\n",
              "23337                   ЯРСНИП        0\n",
              "23338   Ясли-сад № 28 г.Минска        0\n",
              "23339            Яшин&Партнёры        0\n",
              "23340  Яшнова Алена Викторовна        0\n",
              "\n",
              "[23341 rows x 2 columns]"
            ]
          },
          "execution_count": 34,
          "metadata": {},
          "output_type": "execute_result"
        }
      ],
      "source": [
        "# результат запроса\n",
        "df = pd.read_sql_query(query_5_3, connection)\n",
        "df"
      ]
    },
    {
      "cell_type": "markdown",
      "id": "eab2206d-d95b-468b-8e5f-34381abf0ce7",
      "metadata": {
        "id": "eab2206d-d95b-468b-8e5f-34381abf0ce7"
      },
      "source": [
        "4. Напишите запрос для подсчёта количества работодателей, у которых не указана сфера деятельности. "
      ]
    },
    {
      "cell_type": "code",
      "execution_count": 35,
      "id": "80defb23-bfb1-4a18-8be6-bf36aa7165d5",
      "metadata": {
        "id": "80defb23-bfb1-4a18-8be6-bf36aa7165d5"
      },
      "outputs": [],
      "source": [
        "# текст запроса\n",
        "query_5_4 = f'''\n",
        "SELECT DISTINCT\n",
        "    count(e.id) \"Кол-во работодателей\"\n",
        "FROM employers e\n",
        "    LEFT JOIN employers_industries ei ON ei.employer_id = e.id\n",
        "GROUP BY ei.industry_id\n",
        "HAVING ei.industry_id IS NULL\n",
        "'''"
      ]
    },
    {
      "cell_type": "code",
      "execution_count": 36,
      "id": "Dp_yCx6ysQSu",
      "metadata": {
        "id": "Dp_yCx6ysQSu"
      },
      "outputs": [
        {
          "name": "stderr",
          "output_type": "stream",
          "text": [
            "/tmp/ipykernel_4042906/3493105328.py:2: UserWarning:\n",
            "\n",
            "pandas only supports SQLAlchemy connectable (engine/connection) or database string URI or sqlite3 DBAPI2 connection. Other DBAPI2 objects are not tested. Please consider using SQLAlchemy.\n",
            "\n"
          ]
        },
        {
          "data": {
            "text/html": [
              "<div>\n",
              "<style scoped>\n",
              "    .dataframe tbody tr th:only-of-type {\n",
              "        vertical-align: middle;\n",
              "    }\n",
              "\n",
              "    .dataframe tbody tr th {\n",
              "        vertical-align: top;\n",
              "    }\n",
              "\n",
              "    .dataframe thead th {\n",
              "        text-align: right;\n",
              "    }\n",
              "</style>\n",
              "<table border=\"1\" class=\"dataframe\">\n",
              "  <thead>\n",
              "    <tr style=\"text-align: right;\">\n",
              "      <th></th>\n",
              "      <th>Кол-во работодателей</th>\n",
              "    </tr>\n",
              "  </thead>\n",
              "  <tbody>\n",
              "    <tr>\n",
              "      <th>0</th>\n",
              "      <td>8419</td>\n",
              "    </tr>\n",
              "  </tbody>\n",
              "</table>\n",
              "</div>"
            ],
            "text/plain": [
              "   Кол-во работодателей\n",
              "0                  8419"
            ]
          },
          "execution_count": 36,
          "metadata": {},
          "output_type": "execute_result"
        }
      ],
      "source": [
        "# результат запроса\n",
        "df = pd.read_sql_query(query_5_4, connection)\n",
        "df"
      ]
    },
    {
      "cell_type": "markdown",
      "id": "0112af31-f6b0-4e3b-82ab-71296e752e5e",
      "metadata": {
        "id": "0112af31-f6b0-4e3b-82ab-71296e752e5e"
      },
      "source": [
        "5. Напишите запрос, чтобы узнать название компании, находящейся на третьем месте в алфавитном списке (по названию) компаний, у которых указано четыре сферы деятельности. "
      ]
    },
    {
      "cell_type": "code",
      "execution_count": 37,
      "id": "973b0cfc-a972-470a-8b4a-68744ef220c4",
      "metadata": {
        "id": "973b0cfc-a972-470a-8b4a-68744ef220c4"
      },
      "outputs": [],
      "source": [
        "# текст запроса\n",
        "query_5_5 = f'''\n",
        "SELECT DISTINCT\n",
        "    e.name\n",
        "FROM employers e\n",
        "    LEFT JOIN employers_industries ei ON ei.employer_id = e.id\n",
        "GROUP BY e.id\n",
        "HAVING count(ei.industry_id) = 4\n",
        "ORDER BY 1 ASC\n",
        "OFFSET 2\n",
        "LIMIT 1\n",
        "'''"
      ]
    },
    {
      "cell_type": "code",
      "execution_count": 38,
      "id": "xsPtpp8EsaED",
      "metadata": {
        "id": "xsPtpp8EsaED"
      },
      "outputs": [
        {
          "name": "stderr",
          "output_type": "stream",
          "text": [
            "/tmp/ipykernel_4042906/388711819.py:2: UserWarning:\n",
            "\n",
            "pandas only supports SQLAlchemy connectable (engine/connection) or database string URI or sqlite3 DBAPI2 connection. Other DBAPI2 objects are not tested. Please consider using SQLAlchemy.\n",
            "\n"
          ]
        },
        {
          "data": {
            "text/html": [
              "<div>\n",
              "<style scoped>\n",
              "    .dataframe tbody tr th:only-of-type {\n",
              "        vertical-align: middle;\n",
              "    }\n",
              "\n",
              "    .dataframe tbody tr th {\n",
              "        vertical-align: top;\n",
              "    }\n",
              "\n",
              "    .dataframe thead th {\n",
              "        text-align: right;\n",
              "    }\n",
              "</style>\n",
              "<table border=\"1\" class=\"dataframe\">\n",
              "  <thead>\n",
              "    <tr style=\"text-align: right;\">\n",
              "      <th></th>\n",
              "      <th>name</th>\n",
              "    </tr>\n",
              "  </thead>\n",
              "  <tbody>\n",
              "    <tr>\n",
              "      <th>0</th>\n",
              "      <td>2ГИС</td>\n",
              "    </tr>\n",
              "  </tbody>\n",
              "</table>\n",
              "</div>"
            ],
            "text/plain": [
              "   name\n",
              "0  2ГИС"
            ]
          },
          "execution_count": 38,
          "metadata": {},
          "output_type": "execute_result"
        }
      ],
      "source": [
        "# результат запроса\n",
        "df = pd.read_sql_query(query_5_5, connection)\n",
        "df"
      ]
    },
    {
      "attachments": {},
      "cell_type": "markdown",
      "id": "3bfcfdaf-755d-4d2b-8ed8-326201dc07ab",
      "metadata": {
        "id": "3bfcfdaf-755d-4d2b-8ed8-326201dc07ab"
      },
      "source": [
        "6. С помощью запроса выясните, у какого количества работодателей в качестве сферы деятельности указана \"Разработка программного обеспечения\".\n"
      ]
    },
    {
      "cell_type": "code",
      "execution_count": 39,
      "id": "ad3f270f-2991-47eb-929b-e8f88a55b0d1",
      "metadata": {
        "id": "ad3f270f-2991-47eb-929b-e8f88a55b0d1"
      },
      "outputs": [],
      "source": [
        "# текст запроса\n",
        "query_5_6 = f'''\n",
        "SELECT \n",
        "    count(DISTINCT ei.employer_id)\n",
        "FROM \n",
        "    employers_industries ei\n",
        "    JOIN industries i ON ei.industry_id = i.id\n",
        "WHERE i.name LIKE 'Разработка программного обеспечения'\n",
        "'''"
      ]
    },
    {
      "cell_type": "code",
      "execution_count": 40,
      "id": "H72qxWM0shPR",
      "metadata": {
        "id": "H72qxWM0shPR"
      },
      "outputs": [
        {
          "name": "stderr",
          "output_type": "stream",
          "text": [
            "/tmp/ipykernel_4042906/821628714.py:2: UserWarning:\n",
            "\n",
            "pandas only supports SQLAlchemy connectable (engine/connection) or database string URI or sqlite3 DBAPI2 connection. Other DBAPI2 objects are not tested. Please consider using SQLAlchemy.\n",
            "\n"
          ]
        },
        {
          "data": {
            "text/html": [
              "<div>\n",
              "<style scoped>\n",
              "    .dataframe tbody tr th:only-of-type {\n",
              "        vertical-align: middle;\n",
              "    }\n",
              "\n",
              "    .dataframe tbody tr th {\n",
              "        vertical-align: top;\n",
              "    }\n",
              "\n",
              "    .dataframe thead th {\n",
              "        text-align: right;\n",
              "    }\n",
              "</style>\n",
              "<table border=\"1\" class=\"dataframe\">\n",
              "  <thead>\n",
              "    <tr style=\"text-align: right;\">\n",
              "      <th></th>\n",
              "      <th>count</th>\n",
              "    </tr>\n",
              "  </thead>\n",
              "  <tbody>\n",
              "    <tr>\n",
              "      <th>0</th>\n",
              "      <td>3553</td>\n",
              "    </tr>\n",
              "  </tbody>\n",
              "</table>\n",
              "</div>"
            ],
            "text/plain": [
              "   count\n",
              "0   3553"
            ]
          },
          "execution_count": 40,
          "metadata": {},
          "output_type": "execute_result"
        }
      ],
      "source": [
        "# результат запроса\n",
        "df = pd.read_sql_query(query_5_6, connection)\n",
        "df"
      ]
    },
    {
      "cell_type": "markdown",
      "id": "7b02bb86-0546-40fb-94a4-242f050a5c57",
      "metadata": {
        "id": "7b02bb86-0546-40fb-94a4-242f050a5c57"
      },
      "source": [
        "7. Для компании «Яндекс» выведите список регионов-миллионников, в которых представлены вакансии компании, вместе с количеством вакансий в этих регионах. Также добавьте строку Total с общим количеством вакансий компании. Результат отсортируйте по возрастанию количества.\n",
        "\n",
        "Список городов-милионников надо взять [отсюда](https://ru.wikipedia.org/wiki/%D0%93%D0%BE%D1%80%D0%BE%D0%B4%D0%B0-%D0%BC%D0%B8%D0%BB%D0%BB%D0%B8%D0%BE%D0%BD%D0%B5%D1%80%D1%8B_%D0%A0%D0%BE%D1%81%D1%81%D0%B8%D0%B8). \n",
        "\n",
        "Если возникнут трудности с этим задание посмотрите материалы модуля  PYTHON-17. Как получать данные из веб-источников и API. "
      ]
    },
    {
      "cell_type": "code",
      "execution_count": 41,
      "id": "ZdfrL6gIs1Pn",
      "metadata": {
        "id": "ZdfrL6gIs1Pn"
      },
      "outputs": [
        {
          "name": "stdout",
          "output_type": "stream",
          "text": [
            "['Москва', 'Санкт-Петербург', 'Новосибирск', 'Екатеринбург', 'Казань', 'Нижний Новгород', 'Челябинск', 'Красноярск', 'Самара', 'Уфа', 'Ростов-на-Дону', 'Омск', 'Краснодар', 'Воронеж', 'Пермь', 'Волгоград']\n"
          ]
        }
      ],
      "source": [
        "# код для получения списка городов-милионников\n",
        "url = 'https://ru.wikipedia.org/wiki/%D0%93%D0%BE%D1%80%D0%BE%D0%B4%D0%B0-%D0%BC%D0%B8%D0%BB%D0%BB%D0%B8%D0%BE%D0%BD%D0%B5%D1%80%D1%8B_%D0%A0%D0%BE%D1%81%D1%81%D0%B8%D0%B8'\n",
        "response = requests.get(url)\n",
        "page = BeautifulSoup(response.text, 'html.parser')\n",
        "all_tables = page.find_all('table')\n",
        "table_cities = all_tables[1]\n",
        "list_cities = [] #список городов-милионников\n",
        "\n",
        "for i in table_cities.find_all('td'): \n",
        "    title = i.text  \n",
        "    list_cities.append(title) \n",
        "list_cities = list_cities[1::5]\n",
        "\n",
        "list_cities[13] = 'Воронеж'\n",
        "print(list_cities)\n"
      ]
    },
    {
      "cell_type": "code",
      "execution_count": 42,
      "id": "5a0e32a4-e68a-4365-8a39-2fe24c542c36",
      "metadata": {
        "id": "5a0e32a4-e68a-4365-8a39-2fe24c542c36"
      },
      "outputs": [],
      "source": [
        "# текст запроса\n",
        "query_5_7 = f'''\n",
        "(SELECT DISTINCT\n",
        "    a.name \"Регион\",\n",
        "    count(v.id) \"Кол-во вакансий\"\n",
        "FROM \n",
        "    vacancies v\n",
        "    JOIN areas a ON a.id = v.area_id\n",
        "    JOIN employers e ON e.id = v.employer_id\n",
        "WHERE e.name LIKE 'Яндекс' AND (a.name IN ('Москва', 'Санкт-Петербург', 'Новосибирск', 'Екатеринбург', 'Казань', 'Нижний Новгород', 'Челябинск', 'Красноярск', 'Самара', 'Уфа', 'Ростов-на-Дону', 'Омск', 'Краснодар', 'Воронеж', 'Пермь', 'Волгоград'))\n",
        "GROUP BY a.name \n",
        "ORDER BY 2 ASC)\n",
        "\n",
        "UNION\n",
        "\n",
        "(SELECT DISTINCT\n",
        "    'Total' \"Регион\",\n",
        "    count(v.id) \"Кол-во вакансий\"\n",
        "FROM \n",
        "    vacancies v\n",
        "    JOIN areas a ON a.id = v.area_id\n",
        "    JOIN employers e ON e.id = v.employer_id\n",
        "WHERE e.name LIKE 'Яндекс' AND (a.name IN {tuple(list_cities)})\n",
        "ORDER BY 2 ASC)\n",
        "ORDER BY 2 ASC\n",
        "'''"
      ]
    },
    {
      "cell_type": "code",
      "execution_count": 43,
      "id": "ttPhiO1rsvPq",
      "metadata": {
        "id": "ttPhiO1rsvPq"
      },
      "outputs": [
        {
          "name": "stderr",
          "output_type": "stream",
          "text": [
            "/tmp/ipykernel_4042906/802678966.py:2: UserWarning:\n",
            "\n",
            "pandas only supports SQLAlchemy connectable (engine/connection) or database string URI or sqlite3 DBAPI2 connection. Other DBAPI2 objects are not tested. Please consider using SQLAlchemy.\n",
            "\n"
          ]
        },
        {
          "data": {
            "text/plain": [
              "(17, 2)"
            ]
          },
          "metadata": {},
          "output_type": "display_data"
        },
        {
          "data": {
            "text/html": [
              "<div>\n",
              "<style scoped>\n",
              "    .dataframe tbody tr th:only-of-type {\n",
              "        vertical-align: middle;\n",
              "    }\n",
              "\n",
              "    .dataframe tbody tr th {\n",
              "        vertical-align: top;\n",
              "    }\n",
              "\n",
              "    .dataframe thead th {\n",
              "        text-align: right;\n",
              "    }\n",
              "</style>\n",
              "<table border=\"1\" class=\"dataframe\">\n",
              "  <thead>\n",
              "    <tr style=\"text-align: right;\">\n",
              "      <th></th>\n",
              "      <th>Регион</th>\n",
              "      <th>Кол-во вакансий</th>\n",
              "    </tr>\n",
              "  </thead>\n",
              "  <tbody>\n",
              "    <tr>\n",
              "      <th>0</th>\n",
              "      <td>Омск</td>\n",
              "      <td>21</td>\n",
              "    </tr>\n",
              "    <tr>\n",
              "      <th>1</th>\n",
              "      <td>Челябинск</td>\n",
              "      <td>22</td>\n",
              "    </tr>\n",
              "    <tr>\n",
              "      <th>2</th>\n",
              "      <td>Красноярск</td>\n",
              "      <td>23</td>\n",
              "    </tr>\n",
              "    <tr>\n",
              "      <th>3</th>\n",
              "      <td>Волгоград</td>\n",
              "      <td>24</td>\n",
              "    </tr>\n",
              "    <tr>\n",
              "      <th>4</th>\n",
              "      <td>Пермь</td>\n",
              "      <td>25</td>\n",
              "    </tr>\n",
              "    <tr>\n",
              "      <th>5</th>\n",
              "      <td>Казань</td>\n",
              "      <td>25</td>\n",
              "    </tr>\n",
              "    <tr>\n",
              "      <th>6</th>\n",
              "      <td>Ростов-на-Дону</td>\n",
              "      <td>25</td>\n",
              "    </tr>\n",
              "    <tr>\n",
              "      <th>7</th>\n",
              "      <td>Уфа</td>\n",
              "      <td>26</td>\n",
              "    </tr>\n",
              "    <tr>\n",
              "      <th>8</th>\n",
              "      <td>Самара</td>\n",
              "      <td>26</td>\n",
              "    </tr>\n",
              "    <tr>\n",
              "      <th>9</th>\n",
              "      <td>Краснодар</td>\n",
              "      <td>30</td>\n",
              "    </tr>\n",
              "    <tr>\n",
              "      <th>10</th>\n",
              "      <td>Воронеж</td>\n",
              "      <td>32</td>\n",
              "    </tr>\n",
              "    <tr>\n",
              "      <th>11</th>\n",
              "      <td>Новосибирск</td>\n",
              "      <td>35</td>\n",
              "    </tr>\n",
              "    <tr>\n",
              "      <th>12</th>\n",
              "      <td>Нижний Новгород</td>\n",
              "      <td>36</td>\n",
              "    </tr>\n",
              "    <tr>\n",
              "      <th>13</th>\n",
              "      <td>Екатеринбург</td>\n",
              "      <td>39</td>\n",
              "    </tr>\n",
              "    <tr>\n",
              "      <th>14</th>\n",
              "      <td>Санкт-Петербург</td>\n",
              "      <td>42</td>\n",
              "    </tr>\n",
              "    <tr>\n",
              "      <th>15</th>\n",
              "      <td>Москва</td>\n",
              "      <td>54</td>\n",
              "    </tr>\n",
              "    <tr>\n",
              "      <th>16</th>\n",
              "      <td>Total</td>\n",
              "      <td>485</td>\n",
              "    </tr>\n",
              "  </tbody>\n",
              "</table>\n",
              "</div>"
            ],
            "text/plain": [
              "             Регион  Кол-во вакансий\n",
              "0              Омск               21\n",
              "1         Челябинск               22\n",
              "2        Красноярск               23\n",
              "3         Волгоград               24\n",
              "4             Пермь               25\n",
              "5            Казань               25\n",
              "6    Ростов-на-Дону               25\n",
              "7               Уфа               26\n",
              "8            Самара               26\n",
              "9         Краснодар               30\n",
              "10          Воронеж               32\n",
              "11      Новосибирск               35\n",
              "12  Нижний Новгород               36\n",
              "13     Екатеринбург               39\n",
              "14  Санкт-Петербург               42\n",
              "15           Москва               54\n",
              "16            Total              485"
            ]
          },
          "execution_count": 43,
          "metadata": {},
          "output_type": "execute_result"
        }
      ],
      "source": [
        "# результат запроса\n",
        "df = pd.read_sql_query(query_5_7, connection)\n",
        "display(df.shape)\n",
        "df"
      ]
    },
    {
      "cell_type": "markdown",
      "id": "04966e40-3bc3-4dc8-9ba2-e80580ce3abc",
      "metadata": {
        "id": "04966e40-3bc3-4dc8-9ba2-e80580ce3abc"
      },
      "source": [
        "***"
      ]
    },
    {
      "attachments": {},
      "cell_type": "markdown",
      "id": "aGGyER-yt4SR",
      "metadata": {
        "id": "aGGyER-yt4SR"
      },
      "source": [
        "### Выводы по анализу работодателей\n",
        "\n",
        "* Самой независимой от географии кампанией является Яндекс. Именно эта кампания имеет больше всего вакансий для Data Scientist'а, а так же вакансии этой кампании размещены в большинстве регионов. \n",
        "* Из общего количества работодателей примерно у трети не указана сфера деятельности.\n",
        "* И где-то у 1/7 всех кампаний в качестве сферы деятельности указана разработка ПО.\n",
        "* В ходе анализа количества вакансий для компании «Яндекс» в зависимости от города было выявлено, что чем крупнее город, тем больше в нём вакансий кампании."
      ]
    },
    {
      "cell_type": "markdown",
      "id": "b1ef156a-efcb-49ce-bb23-90763e7f35b2",
      "metadata": {
        "id": "b1ef156a-efcb-49ce-bb23-90763e7f35b2",
        "tags": []
      },
      "source": [
        "# Юнит 6. Предметный анализ"
      ]
    },
    {
      "cell_type": "markdown",
      "id": "b9cd50a0-992d-4988-8463-2b2b1c4629b4",
      "metadata": {
        "id": "b9cd50a0-992d-4988-8463-2b2b1c4629b4"
      },
      "source": [
        "1. Сколько вакансий имеет отношение к данным?\n",
        "\n",
        "Считаем, что вакансия имеет отношение к данным, если в её названии содержатся слова 'data' или 'данн'.\n",
        "\n",
        "*Подсказка: Обратите внимание, что названия вакансий могут быть написаны в любом регистре.* \n"
      ]
    },
    {
      "cell_type": "code",
      "execution_count": 44,
      "id": "54ab0e50-c0f1-47cc-a54b-bc5c8bc363f9",
      "metadata": {
        "id": "54ab0e50-c0f1-47cc-a54b-bc5c8bc363f9"
      },
      "outputs": [],
      "source": [
        "# текст запроса\n",
        "query_6_1 = f'''\n",
        "SELECT \n",
        "    count(DISTINCT id)\n",
        "FROM vacancies\n",
        "WHERE name ILIKE '%данн%' OR name ILIKE '%data%'\n",
        "'''"
      ]
    },
    {
      "cell_type": "code",
      "execution_count": 45,
      "id": "9F1meAqsuUjd",
      "metadata": {
        "id": "9F1meAqsuUjd"
      },
      "outputs": [
        {
          "name": "stderr",
          "output_type": "stream",
          "text": [
            "/tmp/ipykernel_4042906/366702258.py:2: UserWarning:\n",
            "\n",
            "pandas only supports SQLAlchemy connectable (engine/connection) or database string URI or sqlite3 DBAPI2 connection. Other DBAPI2 objects are not tested. Please consider using SQLAlchemy.\n",
            "\n"
          ]
        },
        {
          "data": {
            "text/html": [
              "<div>\n",
              "<style scoped>\n",
              "    .dataframe tbody tr th:only-of-type {\n",
              "        vertical-align: middle;\n",
              "    }\n",
              "\n",
              "    .dataframe tbody tr th {\n",
              "        vertical-align: top;\n",
              "    }\n",
              "\n",
              "    .dataframe thead th {\n",
              "        text-align: right;\n",
              "    }\n",
              "</style>\n",
              "<table border=\"1\" class=\"dataframe\">\n",
              "  <thead>\n",
              "    <tr style=\"text-align: right;\">\n",
              "      <th></th>\n",
              "      <th>count</th>\n",
              "    </tr>\n",
              "  </thead>\n",
              "  <tbody>\n",
              "    <tr>\n",
              "      <th>0</th>\n",
              "      <td>1771</td>\n",
              "    </tr>\n",
              "  </tbody>\n",
              "</table>\n",
              "</div>"
            ],
            "text/plain": [
              "   count\n",
              "0   1771"
            ]
          },
          "execution_count": 45,
          "metadata": {},
          "output_type": "execute_result"
        }
      ],
      "source": [
        "# результат запроса\n",
        "df = pd.read_sql_query(query_6_1, connection)\n",
        "df"
      ]
    },
    {
      "cell_type": "markdown",
      "id": "4dea20cb-a36b-474a-a0b9-e08e8e3857a5",
      "metadata": {
        "id": "4dea20cb-a36b-474a-a0b9-e08e8e3857a5"
      },
      "source": [
        "2. Сколько есть подходящих вакансий для начинающего дата-сайентиста? \n",
        "Будем считать вакансиями для дата-сайентистов такие, в названии которых есть хотя бы одно из следующих сочетаний:\n",
        "* 'data scientist'\n",
        "* 'data science'\n",
        "* 'исследователь данных'\n",
        "* 'ML' (здесь не нужно брать вакансии по HTML)\n",
        "* 'machine learning'\n",
        "* 'машинн%обучен%'\n",
        "\n",
        "** В следующих заданиях мы продолжим работать с вакансиями по этому условию.*\n",
        "\n",
        "Считаем вакансиями для специалистов уровня Junior следующие:\n",
        "* в названии есть слово 'junior' *или*\n",
        "* требуемый опыт — Нет опыта *или*\n",
        "* тип трудоустройства — Стажировка.\n",
        " "
      ]
    },
    {
      "cell_type": "code",
      "execution_count": 46,
      "id": "9c61b3c0-bb66-46c9-ae1e-81d3f5752b4a",
      "metadata": {
        "id": "9c61b3c0-bb66-46c9-ae1e-81d3f5752b4a"
      },
      "outputs": [],
      "source": [
        "# текст запроса\n",
        "ds_vacs = '{%data scientist%, %data science%, %исследователь данных%, %machine learning%, %машинн%обучен%}'\n",
        "query_6_2 = f'''\n",
        "SELECT \n",
        "    count(id)\n",
        "FROM vacancies\n",
        "WHERE ((name ILIKE ANY ('{ds_vacs}') OR name LIKE '%ML%') AND name NOT ILIKE '%HTML%')\n",
        "    AND (name ILIKE '%junior%' OR experience ILIKE '%Нет опыта%' OR employment ILIKE '%Стажировка%')\n",
        "'''"
      ]
    },
    {
      "cell_type": "code",
      "execution_count": 47,
      "id": "ZNM-LLYuu1dj",
      "metadata": {
        "id": "ZNM-LLYuu1dj"
      },
      "outputs": [
        {
          "name": "stderr",
          "output_type": "stream",
          "text": [
            "/tmp/ipykernel_4042906/2267038862.py:2: UserWarning:\n",
            "\n",
            "pandas only supports SQLAlchemy connectable (engine/connection) or database string URI or sqlite3 DBAPI2 connection. Other DBAPI2 objects are not tested. Please consider using SQLAlchemy.\n",
            "\n"
          ]
        },
        {
          "data": {
            "text/html": [
              "<div>\n",
              "<style scoped>\n",
              "    .dataframe tbody tr th:only-of-type {\n",
              "        vertical-align: middle;\n",
              "    }\n",
              "\n",
              "    .dataframe tbody tr th {\n",
              "        vertical-align: top;\n",
              "    }\n",
              "\n",
              "    .dataframe thead th {\n",
              "        text-align: right;\n",
              "    }\n",
              "</style>\n",
              "<table border=\"1\" class=\"dataframe\">\n",
              "  <thead>\n",
              "    <tr style=\"text-align: right;\">\n",
              "      <th></th>\n",
              "      <th>count</th>\n",
              "    </tr>\n",
              "  </thead>\n",
              "  <tbody>\n",
              "    <tr>\n",
              "      <th>0</th>\n",
              "      <td>51</td>\n",
              "    </tr>\n",
              "  </tbody>\n",
              "</table>\n",
              "</div>"
            ],
            "text/plain": [
              "   count\n",
              "0     51"
            ]
          },
          "execution_count": 47,
          "metadata": {},
          "output_type": "execute_result"
        }
      ],
      "source": [
        "# результат запроса\n",
        "df = pd.read_sql_query(query_6_2, connection)\n",
        "df"
      ]
    },
    {
      "cell_type": "markdown",
      "id": "eedceb80-c5ca-480e-b27a-278dfb8b4438",
      "metadata": {
        "id": "eedceb80-c5ca-480e-b27a-278dfb8b4438"
      },
      "source": [
        "3. Сколько есть вакансий для DS, в которых в качестве ключевого навыка указан SQL или postgres?\n",
        "\n",
        "** Критерии для отнесения вакансии к DS указаны в предыдущем задании.*"
      ]
    },
    {
      "cell_type": "code",
      "execution_count": 48,
      "id": "69621713-0cc5-4f1b-a1d7-bb144fa6148c",
      "metadata": {
        "id": "69621713-0cc5-4f1b-a1d7-bb144fa6148c"
      },
      "outputs": [],
      "source": [
        "# текст запроса\n",
        "skills = '{%SQL%, %postgres%}'\n",
        "query_6_3 = f'''\n",
        "SELECT \n",
        "    count(id)\n",
        "FROM vacancies\n",
        "WHERE ((name ILIKE ANY ('{ds_vacs}') OR name LIKE '%ML%') AND name NOT ILIKE '%HTML%')\n",
        "    AND (key_skills ILIKE ANY ('{skills}'))\n",
        "'''"
      ]
    },
    {
      "cell_type": "code",
      "execution_count": 49,
      "id": "alA8WEAAvGdf",
      "metadata": {
        "id": "alA8WEAAvGdf"
      },
      "outputs": [
        {
          "name": "stderr",
          "output_type": "stream",
          "text": [
            "/tmp/ipykernel_4042906/3794299702.py:2: UserWarning:\n",
            "\n",
            "pandas only supports SQLAlchemy connectable (engine/connection) or database string URI or sqlite3 DBAPI2 connection. Other DBAPI2 objects are not tested. Please consider using SQLAlchemy.\n",
            "\n"
          ]
        },
        {
          "data": {
            "text/html": [
              "<div>\n",
              "<style scoped>\n",
              "    .dataframe tbody tr th:only-of-type {\n",
              "        vertical-align: middle;\n",
              "    }\n",
              "\n",
              "    .dataframe tbody tr th {\n",
              "        vertical-align: top;\n",
              "    }\n",
              "\n",
              "    .dataframe thead th {\n",
              "        text-align: right;\n",
              "    }\n",
              "</style>\n",
              "<table border=\"1\" class=\"dataframe\">\n",
              "  <thead>\n",
              "    <tr style=\"text-align: right;\">\n",
              "      <th></th>\n",
              "      <th>count</th>\n",
              "    </tr>\n",
              "  </thead>\n",
              "  <tbody>\n",
              "    <tr>\n",
              "      <th>0</th>\n",
              "      <td>201</td>\n",
              "    </tr>\n",
              "  </tbody>\n",
              "</table>\n",
              "</div>"
            ],
            "text/plain": [
              "   count\n",
              "0    201"
            ]
          },
          "execution_count": 49,
          "metadata": {},
          "output_type": "execute_result"
        }
      ],
      "source": [
        "# результат запроса\n",
        "df = pd.read_sql_query(query_6_3, connection)\n",
        "df"
      ]
    },
    {
      "cell_type": "markdown",
      "id": "1be1e9c6-37cf-4a5f-bfeb-04cab799dc80",
      "metadata": {
        "id": "1be1e9c6-37cf-4a5f-bfeb-04cab799dc80"
      },
      "source": [
        "4. Проверьте, насколько популярен Python в требованиях работодателей к DS.Для этого вычислите количество вакансий, в которых в качестве ключевого навыка указан Python.\n",
        "\n",
        "** Это можно сделать помощью запроса, аналогичного предыдущему.*"
      ]
    },
    {
      "cell_type": "code",
      "execution_count": 50,
      "id": "0036a355-9ccf-4564-8b01-73d8194297e7",
      "metadata": {
        "id": "0036a355-9ccf-4564-8b01-73d8194297e7"
      },
      "outputs": [],
      "source": [
        "# текст запроса\n",
        "skills = '{%Python%}'\n",
        "query_6_4 = f'''\n",
        "SELECT \n",
        "    count(id)\n",
        "FROM vacancies\n",
        "WHERE ((name ILIKE ANY ('{ds_vacs}') OR name LIKE '%ML%') AND name NOT ILIKE '%HTML%')\n",
        "    AND (key_skills ILIKE ANY ('{skills}'))\n",
        "'''"
      ]
    },
    {
      "cell_type": "code",
      "execution_count": 51,
      "id": "1i-5WyucvQ6v",
      "metadata": {
        "id": "1i-5WyucvQ6v"
      },
      "outputs": [
        {
          "name": "stderr",
          "output_type": "stream",
          "text": [
            "/tmp/ipykernel_4042906/4264665179.py:2: UserWarning:\n",
            "\n",
            "pandas only supports SQLAlchemy connectable (engine/connection) or database string URI or sqlite3 DBAPI2 connection. Other DBAPI2 objects are not tested. Please consider using SQLAlchemy.\n",
            "\n"
          ]
        },
        {
          "data": {
            "text/html": [
              "<div>\n",
              "<style scoped>\n",
              "    .dataframe tbody tr th:only-of-type {\n",
              "        vertical-align: middle;\n",
              "    }\n",
              "\n",
              "    .dataframe tbody tr th {\n",
              "        vertical-align: top;\n",
              "    }\n",
              "\n",
              "    .dataframe thead th {\n",
              "        text-align: right;\n",
              "    }\n",
              "</style>\n",
              "<table border=\"1\" class=\"dataframe\">\n",
              "  <thead>\n",
              "    <tr style=\"text-align: right;\">\n",
              "      <th></th>\n",
              "      <th>count</th>\n",
              "    </tr>\n",
              "  </thead>\n",
              "  <tbody>\n",
              "    <tr>\n",
              "      <th>0</th>\n",
              "      <td>351</td>\n",
              "    </tr>\n",
              "  </tbody>\n",
              "</table>\n",
              "</div>"
            ],
            "text/plain": [
              "   count\n",
              "0    351"
            ]
          },
          "execution_count": 51,
          "metadata": {},
          "output_type": "execute_result"
        }
      ],
      "source": [
        "# результат запроса\n",
        "df = pd.read_sql_query(query_6_4, connection)\n",
        "df"
      ]
    },
    {
      "cell_type": "markdown",
      "id": "ec3c8db7-fa21-4a41-a994-1af63742a642",
      "metadata": {
        "id": "ec3c8db7-fa21-4a41-a994-1af63742a642"
      },
      "source": [
        "5. Сколько ключевых навыков в среднем указывают в вакансиях для DS?\n",
        "Ответ округлите до двух знаков после точки-разделителя."
      ]
    },
    {
      "cell_type": "code",
      "execution_count": 52,
      "id": "949132bc-d5b6-4611-8218-0b9a504d74f4",
      "metadata": {
        "id": "949132bc-d5b6-4611-8218-0b9a504d74f4"
      },
      "outputs": [],
      "source": [
        "# текст запроса\n",
        "query_6_5 = f'''\n",
        "SELECT \n",
        "    round(AVG(length(key_skills) - length(replace(key_skills, chr(9), '')) + 1),2) \"среднее кол-во вакансий\"\n",
        "FROM vacancies\n",
        "WHERE ((name ILIKE ANY ('{ds_vacs}') OR name LIKE '%ML%') AND name NOT ILIKE '%HTML%')\n",
        "'''"
      ]
    },
    {
      "cell_type": "code",
      "execution_count": 53,
      "id": "a3V24Tvmviqk",
      "metadata": {
        "id": "a3V24Tvmviqk"
      },
      "outputs": [
        {
          "name": "stderr",
          "output_type": "stream",
          "text": [
            "/tmp/ipykernel_4042906/3654210517.py:2: UserWarning:\n",
            "\n",
            "pandas only supports SQLAlchemy connectable (engine/connection) or database string URI or sqlite3 DBAPI2 connection. Other DBAPI2 objects are not tested. Please consider using SQLAlchemy.\n",
            "\n"
          ]
        },
        {
          "data": {
            "text/html": [
              "<div>\n",
              "<style scoped>\n",
              "    .dataframe tbody tr th:only-of-type {\n",
              "        vertical-align: middle;\n",
              "    }\n",
              "\n",
              "    .dataframe tbody tr th {\n",
              "        vertical-align: top;\n",
              "    }\n",
              "\n",
              "    .dataframe thead th {\n",
              "        text-align: right;\n",
              "    }\n",
              "</style>\n",
              "<table border=\"1\" class=\"dataframe\">\n",
              "  <thead>\n",
              "    <tr style=\"text-align: right;\">\n",
              "      <th></th>\n",
              "      <th>среднее кол-во вакансий</th>\n",
              "    </tr>\n",
              "  </thead>\n",
              "  <tbody>\n",
              "    <tr>\n",
              "      <th>0</th>\n",
              "      <td>6.41</td>\n",
              "    </tr>\n",
              "  </tbody>\n",
              "</table>\n",
              "</div>"
            ],
            "text/plain": [
              "   среднее кол-во вакансий\n",
              "0                     6.41"
            ]
          },
          "execution_count": 53,
          "metadata": {},
          "output_type": "execute_result"
        }
      ],
      "source": [
        "# результат запроса\n",
        "df = pd.read_sql_query(query_6_5, connection)\n",
        "df"
      ]
    },
    {
      "cell_type": "markdown",
      "id": "1041c17a-ca8f-4543-a0ca-32778914fb00",
      "metadata": {
        "id": "1041c17a-ca8f-4543-a0ca-32778914fb00"
      },
      "source": [
        "6. Напишите запрос, позволяющий вычислить, какую зарплату для DS в **среднем** указывают для каждого типа требуемого опыта (уникальное значение из поля *experience*). \n",
        "\n",
        "При решении задачи примите во внимание следующее:\n",
        "1. Рассматриваем только вакансии, у которых заполнено хотя бы одно из двух полей с зарплатой.\n",
        "2. Если заполнены оба поля с зарплатой, то считаем зарплату по каждой вакансии как сумму двух полей, делённую на 2. Если заполнено только одно из полей, то его и считаем зарплатой по вакансии.\n",
        "3. Если в расчётах участвует null, в результате он тоже даст null (посмотрите, что возвращает запрос select 1 + null). Чтобы избежать этой ситуацию, мы воспользуемся функцией [coalesce](https://postgrespro.ru/docs/postgresql/9.5/functions-conditional#functions-coalesce-nvl-ifnull), которая заменит null на значение, которое мы передадим. Например, посмотрите, что возвращает запрос `select 1 + coalesce(null, 0)`\n",
        "\n",
        "Выясните, на какую зарплату в среднем может рассчитывать дата-сайентист с опытом работы от 3 до 6 лет. Результат округлите до целого числа. "
      ]
    },
    {
      "cell_type": "code",
      "execution_count": 54,
      "id": "6a743d39-5204-48d3-8271-b9f88e68d40e",
      "metadata": {
        "id": "6a743d39-5204-48d3-8271-b9f88e68d40e"
      },
      "outputs": [],
      "source": [
        "# текст запроса\n",
        "# Здесь мы используем coalesce. Функция возвращает первый аргумент, который не равен null. Т.к. (1+null)=null, поэтому мы сначала проверяем на то, что оба значения ЗП не null, потом каждое, иначе возвращаем 0.\n",
        "query_6_6 = f'''\n",
        "SELECT \n",
        "    experience \"Опыт\",\n",
        "    round(avg(coalesce((salary_from+salary_to)/2, salary_from, salary_to)), 0) \"Средняя З/П\" \n",
        "FROM vacancies\n",
        "WHERE ((name ILIKE ANY ('{ds_vacs}') OR name LIKE '%ML%') AND name NOT ILIKE '%HTML%')\n",
        "GROUP BY experience\n",
        "'''"
      ]
    },
    {
      "cell_type": "code",
      "execution_count": 55,
      "id": "aRIJ0mZEwU1_",
      "metadata": {
        "id": "aRIJ0mZEwU1_"
      },
      "outputs": [
        {
          "name": "stderr",
          "output_type": "stream",
          "text": [
            "/tmp/ipykernel_4042906/519194770.py:2: UserWarning:\n",
            "\n",
            "pandas only supports SQLAlchemy connectable (engine/connection) or database string URI or sqlite3 DBAPI2 connection. Other DBAPI2 objects are not tested. Please consider using SQLAlchemy.\n",
            "\n"
          ]
        },
        {
          "data": {
            "text/html": [
              "<div>\n",
              "<style scoped>\n",
              "    .dataframe tbody tr th:only-of-type {\n",
              "        vertical-align: middle;\n",
              "    }\n",
              "\n",
              "    .dataframe tbody tr th {\n",
              "        vertical-align: top;\n",
              "    }\n",
              "\n",
              "    .dataframe thead th {\n",
              "        text-align: right;\n",
              "    }\n",
              "</style>\n",
              "<table border=\"1\" class=\"dataframe\">\n",
              "  <thead>\n",
              "    <tr style=\"text-align: right;\">\n",
              "      <th></th>\n",
              "      <th>Опыт</th>\n",
              "      <th>Средняя З/П</th>\n",
              "    </tr>\n",
              "  </thead>\n",
              "  <tbody>\n",
              "    <tr>\n",
              "      <th>0</th>\n",
              "      <td>Более 6 лет</td>\n",
              "      <td>NaN</td>\n",
              "    </tr>\n",
              "    <tr>\n",
              "      <th>1</th>\n",
              "      <td>Нет опыта</td>\n",
              "      <td>74643.0</td>\n",
              "    </tr>\n",
              "    <tr>\n",
              "      <th>2</th>\n",
              "      <td>От 1 года до 3 лет</td>\n",
              "      <td>139675.0</td>\n",
              "    </tr>\n",
              "    <tr>\n",
              "      <th>3</th>\n",
              "      <td>От 3 до 6 лет</td>\n",
              "      <td>243115.0</td>\n",
              "    </tr>\n",
              "  </tbody>\n",
              "</table>\n",
              "</div>"
            ],
            "text/plain": [
              "                 Опыт  Средняя З/П\n",
              "0         Более 6 лет          NaN\n",
              "1           Нет опыта      74643.0\n",
              "2  От 1 года до 3 лет     139675.0\n",
              "3       От 3 до 6 лет     243115.0"
            ]
          },
          "execution_count": 55,
          "metadata": {},
          "output_type": "execute_result"
        }
      ],
      "source": [
        "# результат запроса\n",
        "df = pd.read_sql_query(query_6_6, connection)\n",
        "df"
      ]
    },
    {
      "cell_type": "code",
      "execution_count": 56,
      "id": "24509970",
      "metadata": {},
      "outputs": [
        {
          "data": {
            "image/png": "[encoded data removed]"
          },
          "metadata": {},
          "output_type": "display_data"
        }
      ],
      "source": [
        "fig = px.bar(\n",
        "    data_frame = df,\n",
        "    x='Средняя З/П',\n",
        "    y='Опыт',\n",
        "    title='Средняя з/п в зависимости от опыта работы'\n",
        ")\n",
        "\n",
        "fig.show(\"png\")"
      ]
    },
    {
      "cell_type": "markdown",
      "id": "6a7892b4-4113-4746-adce-18aa2844f18e",
      "metadata": {
        "id": "6a7892b4-4113-4746-adce-18aa2844f18e"
      },
      "source": [
        "***"
      ]
    },
    {
      "attachments": {},
      "cell_type": "markdown",
      "id": "UjLWUptVwY1o",
      "metadata": {
        "id": "UjLWUptVwY1o"
      },
      "source": [
        "### Выводы по предметному анализу\n",
        "\n",
        "* Из 49 тысяч вакансий только 1771 вакансия имеет отношение к данным(примерно 1/28 всех вакансий).\n",
        "* Из 1771 вакансий для начинающих дата-сайентистов подойдёт только 51 вакансия.\n",
        "* В среднем работодатели указывают по 6-7 ключевых навыков, поэтому только лишь знаний SQL, postgres и Python может не хватить для быстрого и вариативного поиска работы. Следует развиваться во многих направлениях помимо базы, чтоб стать востребованным специалистом.\n",
        "* Если иметь навыки самостоятельного развития, то после нахождения вашей первой работы в качестве дата-сайентиста и обзавестись опытом работы 3-6 лет, то вы в среднем сможете расчитывать на З/П уровня 243 тысячи."
      ]
    },
    {
      "cell_type": "markdown",
      "id": "c0ED6fh7wiBT",
      "metadata": {
        "id": "c0ED6fh7wiBT"
      },
      "source": [
        "# Общий вывод по проекту"
      ]
    },
    {
      "attachments": {},
      "cell_type": "markdown",
      "id": "h9B3BL-wwj18",
      "metadata": {
        "id": "h9B3BL-wwj18"
      },
      "source": [
        "### Подведем итог исследования, обобщите выводы\n",
        "* В данный момент профессия дата-сайентиста только набирает популярность. Скорее всего в будущем она будет очень полезна, т.к. мы всё чаще и чаще сталкиваемся с необходимость работы с большими объёмами информации.\n",
        "* В данный момент большинство вакансий находится в крупных городах из-за большого количества графиков с полным рабочим днём в офисе. Если в будущем произойдут какие-то важные события, то возможно актуальный тип рабочего графика изменится.\n",
        "* В данный момент достаточно проблематично будет искать работу по специальности для студентов старших курсов из-за чрезвычайно малого количества вакансий для людей без опыта работы, а так же учитывая рабочий график.\n",
        "### здесь можно (это будет плюсом) провести дополнительные исследования данных, сделать прогнозы, продумать варианты продолжения исследования"
      ]
    },
    {
      "attachments": {},
      "cell_type": "markdown",
      "id": "997ffcfa",
      "metadata": {},
      "source": [
        "### Дополнительное исследование: \"Анализ ключевых навыков для самых популярных вакансий\""
      ]
    },
    {
      "cell_type": "code",
      "execution_count": 57,
      "id": "88d5f7f9",
      "metadata": {},
      "outputs": [],
      "source": [
        "query_7_1 = f'''\n",
        "CREATE OR REPLACE FUNCTION textsum_helper(a text, b text) RETURNS text AS $$\n",
        "        BEGIN\n",
        "                RETURN CASE WHEN a = '' THEN b ELSE concat_ws(', ', a, b) END;\n",
        "        END;\n",
        "$$ LANGUAGE plpgsql;\n",
        "\n",
        "CREATE AGGREGATE sum (text)\n",
        "(\n",
        "    sfunc = textsum_helper,\n",
        "    stype = text,\n",
        "    initcond = ''\n",
        ");\n",
        "\n",
        "SELECT DISTINCT\n",
        "    name \"Вакансия\",\n",
        "    count(id) \"Количество\",\n",
        "    REPLACE(SUM(key_skills), '\\t',', ') \"Ключевые навыки\"\n",
        "FROM vacancies\n",
        "GROUP BY name\n",
        "HAVING count(id) > 100\n",
        "ORDER BY 2 DESC\n",
        "'''"
      ]
    },
    {
      "cell_type": "code",
      "execution_count": 58,
      "id": "abd0bc8a",
      "metadata": {},
      "outputs": [
        {
          "name": "stderr",
          "output_type": "stream",
          "text": [
            "/tmp/ipykernel_4042906/2911634181.py:1: UserWarning:\n",
            "\n",
            "pandas only supports SQLAlchemy connectable (engine/connection) or database string URI or sqlite3 DBAPI2 connection. Other DBAPI2 objects are not tested. Please consider using SQLAlchemy.\n",
            "\n"
          ]
        },
        {
          "data": {
            "text/html": [
              "<div>\n",
              "<style scoped>\n",
              "    .dataframe tbody tr th:only-of-type {\n",
              "        vertical-align: middle;\n",
              "    }\n",
              "\n",
              "    .dataframe tbody tr th {\n",
              "        vertical-align: top;\n",
              "    }\n",
              "\n",
              "    .dataframe thead th {\n",
              "        text-align: right;\n",
              "    }\n",
              "</style>\n",
              "<table border=\"1\" class=\"dataframe\">\n",
              "  <thead>\n",
              "    <tr style=\"text-align: right;\">\n",
              "      <th></th>\n",
              "      <th>Вакансия</th>\n",
              "      <th>Количество</th>\n",
              "      <th>Ключевые навыки</th>\n",
              "    </tr>\n",
              "  </thead>\n",
              "  <tbody>\n",
              "    <tr>\n",
              "      <th>0</th>\n",
              "      <td>Системный администратор</td>\n",
              "      <td>1761</td>\n",
              "      <td>Грамотная речь, Работа в команде, Ответственны...</td>\n",
              "    </tr>\n",
              "    <tr>\n",
              "      <th>1</th>\n",
              "      <td>Программист 1С</td>\n",
              "      <td>1153</td>\n",
              "      <td>1С программирование, 1С: Предприятие 8, Создан...</td>\n",
              "    </tr>\n",
              "    <tr>\n",
              "      <th>2</th>\n",
              "      <td>Бизнес-аналитик</td>\n",
              "      <td>488</td>\n",
              "      <td>SQL, Tableau, Power BI, Базы данных, Анализ да...</td>\n",
              "    </tr>\n",
              "    <tr>\n",
              "      <th>3</th>\n",
              "      <td>Специалист технической поддержки</td>\n",
              "      <td>457</td>\n",
              "      <td>Английский язык, SQL, Работа с базами данных, ...</td>\n",
              "    </tr>\n",
              "    <tr>\n",
              "      <th>4</th>\n",
              "      <td>Системный аналитик</td>\n",
              "      <td>432</td>\n",
              "      <td>SQL, DAX, Постановка задач разработчикам, BPMN...</td>\n",
              "    </tr>\n",
              "    <tr>\n",
              "      <th>5</th>\n",
              "      <td>Аналитик</td>\n",
              "      <td>404</td>\n",
              "      <td>Работа с базами данных, Работа с большим объем...</td>\n",
              "    </tr>\n",
              "    <tr>\n",
              "      <th>6</th>\n",
              "      <td>Инженер-программист</td>\n",
              "      <td>389</td>\n",
              "      <td>MS Visual Basic, Visual Basic, 1С программиров...</td>\n",
              "    </tr>\n",
              "    <tr>\n",
              "      <th>7</th>\n",
              "      <td>Программист 1C</td>\n",
              "      <td>360</td>\n",
              "      <td>1С: Предприятие 8, 1С: Бухгалтерия, 1С: Зарпла...</td>\n",
              "    </tr>\n",
              "    <tr>\n",
              "      <th>8</th>\n",
              "      <td>Frontend-разработчик</td>\n",
              "      <td>242</td>\n",
              "      <td>React, HTML, CSS, JS, MVC, ООП, react, JavaScr...</td>\n",
              "    </tr>\n",
              "    <tr>\n",
              "      <th>9</th>\n",
              "      <td>Инженер технической поддержки</td>\n",
              "      <td>230</td>\n",
              "      <td>Работа в команде, Техническая поддержка, MS Ou...</td>\n",
              "    </tr>\n",
              "    <tr>\n",
              "      <th>10</th>\n",
              "      <td>Программист</td>\n",
              "      <td>224</td>\n",
              "      <td>SQL, JavaScript, Node.js, vue, Пользователь ПК...</td>\n",
              "    </tr>\n",
              "    <tr>\n",
              "      <th>11</th>\n",
              "      <td>Руководитель проекта</td>\n",
              "      <td>191</td>\n",
              "      <td>MS Project, Проведение тендеров, MS Office, Вы...</td>\n",
              "    </tr>\n",
              "    <tr>\n",
              "      <th>12</th>\n",
              "      <td>Младший специалист ручного тестирования</td>\n",
              "      <td>169</td>\n",
              "      <td>None</td>\n",
              "    </tr>\n",
              "    <tr>\n",
              "      <th>13</th>\n",
              "      <td>Специалист службы поддержки в Яндекс Бизнес</td>\n",
              "      <td>168</td>\n",
              "      <td></td>\n",
              "    </tr>\n",
              "    <tr>\n",
              "      <th>14</th>\n",
              "      <td>Менеджер проектов</td>\n",
              "      <td>153</td>\n",
              "      <td>Работа в команде, Английский язык, Деловая ком...</td>\n",
              "    </tr>\n",
              "    <tr>\n",
              "      <th>15</th>\n",
              "      <td>Java-разработчик</td>\n",
              "      <td>150</td>\n",
              "      <td>Spring Framework, Java SE, Java, SQL, Apache M...</td>\n",
              "    </tr>\n",
              "    <tr>\n",
              "      <th>16</th>\n",
              "      <td>Специалист по информационной безопасности</td>\n",
              "      <td>148</td>\n",
              "      <td>Пользователь ПК, Поиск информации в интернет, ...</td>\n",
              "    </tr>\n",
              "    <tr>\n",
              "      <th>17</th>\n",
              "      <td>Специалист службы поддержки Рекламной сети Янд...</td>\n",
              "      <td>139</td>\n",
              "      <td>None</td>\n",
              "    </tr>\n",
              "    <tr>\n",
              "      <th>18</th>\n",
              "      <td>PHP-разработчик</td>\n",
              "      <td>135</td>\n",
              "      <td>MySQL, PHP, Git, jQuery, ООП, PHP, MySQL, Java...</td>\n",
              "    </tr>\n",
              "    <tr>\n",
              "      <th>19</th>\n",
              "      <td>Специалист службы поддержки пользователей</td>\n",
              "      <td>126</td>\n",
              "      <td>Грамотная речь, Работа в команде, Грамотность,...</td>\n",
              "    </tr>\n",
              "    <tr>\n",
              "      <th>20</th>\n",
              "      <td>Компьютерный мастер</td>\n",
              "      <td>123</td>\n",
              "      <td>Ремонт ПК, Активные продажи, Обучение персонал...</td>\n",
              "    </tr>\n",
              "    <tr>\n",
              "      <th>21</th>\n",
              "      <td>Менеджер проекта</td>\n",
              "      <td>120</td>\n",
              "      <td>Деловая переписка, Деловое общение, Ведение до...</td>\n",
              "    </tr>\n",
              "    <tr>\n",
              "      <th>22</th>\n",
              "      <td>Технический писатель</td>\n",
              "      <td>111</td>\n",
              "      <td>Английский язык, ГОСТ, Деловая коммуникация, Е...</td>\n",
              "    </tr>\n",
              "    <tr>\n",
              "      <th>23</th>\n",
              "      <td>Маркетолог-аналитик</td>\n",
              "      <td>108</td>\n",
              "      <td>SWOT анализ, Анализ поведения пользователей, Г...</td>\n",
              "    </tr>\n",
              "    <tr>\n",
              "      <th>24</th>\n",
              "      <td>Ведущий программист 1C</td>\n",
              "      <td>106</td>\n",
              "      <td>PostgreSQL, SQL, Linux, 1С программирование, M...</td>\n",
              "    </tr>\n",
              "    <tr>\n",
              "      <th>25</th>\n",
              "      <td>Руководитель проектов</td>\n",
              "      <td>106</td>\n",
              "      <td>Ведение переговоров, Проведение презентаций, B...</td>\n",
              "    </tr>\n",
              "    <tr>\n",
              "      <th>26</th>\n",
              "      <td>Технический специалист</td>\n",
              "      <td>104</td>\n",
              "      <td>Слесарные работы, 3 группа по электробезопасно...</td>\n",
              "    </tr>\n",
              "  </tbody>\n",
              "</table>\n",
              "</div>"
            ],
            "text/plain": [
              "                                             Вакансия  Количество  \\\n",
              "0                             Системный администратор        1761   \n",
              "1                                      Программист 1С        1153   \n",
              "2                                     Бизнес-аналитик         488   \n",
              "3                    Специалист технической поддержки         457   \n",
              "4                                  Системный аналитик         432   \n",
              "5                                            Аналитик         404   \n",
              "6                                 Инженер-программист         389   \n",
              "7                                      Программист 1C         360   \n",
              "8                                Frontend-разработчик         242   \n",
              "9                       Инженер технической поддержки         230   \n",
              "10                                        Программист         224   \n",
              "11                               Руководитель проекта         191   \n",
              "12            Младший специалист ручного тестирования         169   \n",
              "13        Специалист службы поддержки в Яндекс Бизнес         168   \n",
              "14                                  Менеджер проектов         153   \n",
              "15                                   Java-разработчик         150   \n",
              "16          Специалист по информационной безопасности         148   \n",
              "17  Специалист службы поддержки Рекламной сети Янд...         139   \n",
              "18                                    PHP-разработчик         135   \n",
              "19          Специалист службы поддержки пользователей         126   \n",
              "20                                Компьютерный мастер         123   \n",
              "21                                   Менеджер проекта         120   \n",
              "22                               Технический писатель         111   \n",
              "23                                Маркетолог-аналитик         108   \n",
              "24                             Ведущий программист 1C         106   \n",
              "25                              Руководитель проектов         106   \n",
              "26                             Технический специалист         104   \n",
              "\n",
              "                                      Ключевые навыки  \n",
              "0   Грамотная речь, Работа в команде, Ответственны...  \n",
              "1   1С программирование, 1С: Предприятие 8, Создан...  \n",
              "2   SQL, Tableau, Power BI, Базы данных, Анализ да...  \n",
              "3   Английский язык, SQL, Работа с базами данных, ...  \n",
              "4   SQL, DAX, Постановка задач разработчикам, BPMN...  \n",
              "5   Работа с базами данных, Работа с большим объем...  \n",
              "6   MS Visual Basic, Visual Basic, 1С программиров...  \n",
              "7   1С: Предприятие 8, 1С: Бухгалтерия, 1С: Зарпла...  \n",
              "8   React, HTML, CSS, JS, MVC, ООП, react, JavaScr...  \n",
              "9   Работа в команде, Техническая поддержка, MS Ou...  \n",
              "10  SQL, JavaScript, Node.js, vue, Пользователь ПК...  \n",
              "11  MS Project, Проведение тендеров, MS Office, Вы...  \n",
              "12                                               None  \n",
              "13                                                     \n",
              "14  Работа в команде, Английский язык, Деловая ком...  \n",
              "15  Spring Framework, Java SE, Java, SQL, Apache M...  \n",
              "16  Пользователь ПК, Поиск информации в интернет, ...  \n",
              "17                                               None  \n",
              "18  MySQL, PHP, Git, jQuery, ООП, PHP, MySQL, Java...  \n",
              "19  Грамотная речь, Работа в команде, Грамотность,...  \n",
              "20  Ремонт ПК, Активные продажи, Обучение персонал...  \n",
              "21  Деловая переписка, Деловое общение, Ведение до...  \n",
              "22  Английский язык, ГОСТ, Деловая коммуникация, Е...  \n",
              "23  SWOT анализ, Анализ поведения пользователей, Г...  \n",
              "24  PostgreSQL, SQL, Linux, 1С программирование, M...  \n",
              "25  Ведение переговоров, Проведение презентаций, B...  \n",
              "26  Слесарные работы, 3 группа по электробезопасно...  "
            ]
          },
          "execution_count": 58,
          "metadata": {},
          "output_type": "execute_result"
        }
      ],
      "source": [
        "df = pd.read_sql_query(query_7_1, connection)\n",
        "df"
      ]
    },
    {
      "attachments": {},
      "cell_type": "markdown",
      "id": "783b1524",
      "metadata": {},
      "source": [
        "### Дополнительное исследование: \"Популярность различных навыков DS при поиске вакансий\""
      ]
    },
    {
      "cell_type": "code",
      "execution_count": 59,
      "id": "a5b2992a",
      "metadata": {},
      "outputs": [],
      "source": [
        "skills = '{%SQL%, %postgres%}'\n",
        "query_7_2 = f'''\n",
        "SELECT \n",
        "    REPLACE(SUM(key_skills), '\\t',', ') \"Ключевые навыки\"\n",
        "FROM vacancies\n",
        "WHERE ((name ILIKE ANY ('{ds_vacs}') OR name LIKE '%ML%') AND name NOT ILIKE '%HTML%')\n",
        "'''"
      ]
    },
    {
      "cell_type": "code",
      "execution_count": 66,
      "id": "95dff4fc",
      "metadata": {},
      "outputs": [
        {
          "name": "stderr",
          "output_type": "stream",
          "text": [
            "/tmp/ipykernel_4042906/3615460225.py:1: UserWarning:\n",
            "\n",
            "pandas only supports SQLAlchemy connectable (engine/connection) or database string URI or sqlite3 DBAPI2 connection. Other DBAPI2 objects are not tested. Please consider using SQLAlchemy.\n",
            "\n"
          ]
        }
      ],
      "source": [
        "df = pd.read_sql_query(query_7_2, connection)\n",
        "df\n",
        "\n",
        "skillsDict = {}\n",
        "\n",
        "for word in df['Ключевые навыки'][0].split(', '):\n",
        "    if word not in skillsDict.keys():\n",
        "        skillsDict[word] = 1\n",
        "    else:\n",
        "        skillsDict[word] += 1\n",
        "        \n",
        "data = {'Навыки': skillsDict.keys(), 'Кол-во': skillsDict.values()}\n",
        " \n",
        "#data \n",
        "skills_df = pd.DataFrame.from_dict(data)\n",
        "skills_df = skills_df.sort_values(by=['Кол-во'], ascending=False)  \n"
      ]
    },
    {
      "cell_type": "code",
      "execution_count": 67,
      "id": "0506d905",
      "metadata": {},
      "outputs": [
        {
          "data": {
            "image/png": "[encoded data removed]"
          },
          "metadata": {},
          "output_type": "display_data"
        }
      ],
      "source": [
        "fig = px.bar(\n",
        "    data_frame = skills_df[skills_df['Кол-во'] > 15],\n",
        "    x='Навыки',\n",
        "    y='Кол-во',\n",
        "    title='Кол-во вакансий в зависимости от опыта работы'\n",
        ")\n",
        "\n",
        "fig.show(\"png\")"
      ]
    },
    {
      "attachments": {},
      "cell_type": "markdown",
      "id": "35ed707f",
      "metadata": {},
      "source": [
        "### Выводы:\n",
        "\n",
        "* Как видно из таблицы выше, умения дата-сайентиста могут полезны в большинстве отраслей, потому как анализ большого количества данных занимает всё больше и больше места в жизни человека. Поэтому в будущем эти дата-сайнтисты будут обязательными в большинстве отраслей. Знания дата-сайентиста, полученные на курсах, могут помочь не только в переходе в новую профессию, но так же и в усовершенствовании вашей текущей."
      ]
    },
    {
      "attachments": {},
      "cell_type": "markdown",
      "id": "425cecae",
      "metadata": {},
      "source": [
        "* Как видно из исследования навыков дата-сайнтиста, в большинстве случаев специалисту нужны Python, SQL, ML. Далее чаще всего встречаются Git, математическая статистика, Data analysis, Pandas, Data Science."
      ]
    },
    {
      "attachments": {},
      "cell_type": "markdown",
      "id": "71dae746",
      "metadata": {},
      "source": [
        "* Проведённое выше исследование можно использовать для обозревания рынка по любой необходимой профессии, чтоб получать актуальную информацию по любой специальности. \n",
        "* Совершая одинаковые выборки данных ежегодно можно пытаться сделать прогнозы развития профессии. При подключении дополнительных внешних факторов(геополитическая обстановка, уровень развития технологий, спциализация развивающихся технологий) можно пытаться сделать прогнозы какие типы сециалистов могут быть актуальны в будущем для своевременной подготовки кадров."
      ]
    },
    {
      "cell_type": "code",
      "execution_count": null,
      "id": "a30907b2",
      "metadata": {},
      "outputs": [],
      "source": [
        "connection.close()"
      ]
    }
  ],
  "metadata": {
    "colab": {
      "collapsed_sections": [
        "8d62a9f3-f64e-4fe7-bdac-c4dffa16155e"
      ],
      "provenance": []
    },
    "kernelspec": {
      "display_name": "Python 3.8.10 64-bit",
      "language": "python",
      "name": "python3"
    },
    "language_info": {
      "codemirror_mode": {
        "name": "ipython",
        "version": 3
      },
      "file_extension": ".py",
      "mimetype": "text/x-python",
      "name": "python",
      "nbconvert_exporter": "python",
      "pygments_lexer": "ipython3",
      "version": "3.8.10"
    },
    "vscode": {
      "interpreter": {
        "hash": "e7370f93d1d0cde622a1f8e1c04877d8463912d04d973331ad4851f04de6915a"
      }
    }
  },
  "nbformat": 4,
  "nbformat_minor": 5
}
