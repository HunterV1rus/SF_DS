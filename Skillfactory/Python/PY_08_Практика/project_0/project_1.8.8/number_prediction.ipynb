{
 "cells": [
  {
   "cell_type": "markdown",
   "metadata": {},
   "source": [
    "Добавление в проект"
   ]
  },
  {
   "cell_type": "code",
   "execution_count": 1,
   "metadata": {},
   "outputs": [
    {
     "name": "stdout",
     "output_type": "stream",
     "text": [
      "Your number:73\n",
      "Amount of tries: 7\n"
     ]
    }
   ],
   "source": [
    "from number_prediction import random_predict "
   ]
  },
  {
   "cell_type": "code",
   "execution_count": 2,
   "metadata": {},
   "outputs": [
    {
     "name": "stdout",
     "output_type": "stream",
     "text": [
      "Your number:73\n"
     ]
    },
    {
     "data": {
      "text/plain": [
       "7"
      ]
     },
     "execution_count": 2,
     "metadata": {},
     "output_type": "execute_result"
    }
   ],
   "source": [
    "random_predict() "
   ]
  },
  {
   "cell_type": "code",
   "execution_count": null,
   "metadata": {},
   "outputs": [],
   "source": [
    "Непосредственно код"
   ]
  },
  {
   "cell_type": "code",
   "execution_count": 3,
   "metadata": {},
   "outputs": [
    {
     "name": "stdout",
     "output_type": "stream",
     "text": [
      "64\n",
      "6\n"
     ]
    }
   ],
   "source": [
    "import numpy as np\n",
    "import statistics\n",
    "\n",
    "def random_predict(number:int=np.random.randint(1, 101)) -> int:\n",
    "    \"\"\"Guessing random number\n",
    "\n",
    "    Args:\n",
    "        number (int, optional): Number to guess. Randomly the computer chooses from 1 to 100 \n",
    "\n",
    "    Returns:\n",
    "        int: number of tries \n",
    "    \"\"\"\n",
    "    print(number)\n",
    "    count = 0\n",
    "    lst_num = list(range(1, 101))\n",
    "\n",
    "    while True:\n",
    "      count += 1\n",
    "      predict_number = int(np.mean(lst_num))\n",
    "      half = round(int(len(lst_num))/2)\n",
    "      if number == predict_number:\n",
    "        break\n",
    "      elif predict_number < number:\n",
    "        lst_num = lst_num[half:]  \n",
    "      else:\n",
    "        lst_num = lst_num[:half]\n",
    "      if len(lst_num) == 0:\n",
    "        break\n",
    "\n",
    "    return count\n",
    "\n",
    "print(random_predict())"
   ]
  },
  {
   "cell_type": "code",
   "execution_count": 4,
   "metadata": {},
   "outputs": [
    {
     "name": "stdout",
     "output_type": "stream",
     "text": [
      "64\n"
     ]
    },
    {
     "data": {
      "text/plain": [
       "6"
      ]
     },
     "execution_count": 4,
     "metadata": {},
     "output_type": "execute_result"
    }
   ],
   "source": [
    "random_predict()"
   ]
  }
 ],
 "metadata": {
  "kernelspec": {
   "display_name": "Python 3.8.10 64-bit",
   "language": "python",
   "name": "python3"
  },
  "language_info": {
   "codemirror_mode": {
    "name": "ipython",
    "version": 3
   },
   "file_extension": ".py",
   "mimetype": "text/x-python",
   "name": "python",
   "nbconvert_exporter": "python",
   "pygments_lexer": "ipython3",
   "version": "3.8.10"
  },
  "orig_nbformat": 4,
  "vscode": {
   "interpreter": {
    "hash": "916dbcbb3f70747c44a77c7bcd40155683ae19c65e1c03b4aa3499c5328201f1"
   }
  }
 },
 "nbformat": 4,
 "nbformat_minor": 2
}
