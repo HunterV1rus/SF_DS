{
 "cells": [
  {
   "cell_type": "code",
   "execution_count": null,
   "metadata": {},
   "outputs": [],
   "source": [
    "import pandas as pd \n",
    "import os\n",
    "import sys"
   ]
  },
  {
   "cell_type": "code",
   "execution_count": null,
   "metadata": {},
   "outputs": [],
   "source": [
    "melb_df = pd.read_csv(sys.path[0] + '/data/melb_data_fe.csv', sep = ',')\n",
    "melb_cp = melb_df.copy() "
   ]
  },
  {
   "cell_type": "code",
   "execution_count": null,
   "metadata": {},
   "outputs": [],
   "source": [
    "display(melb_cp.info())"
   ]
  },
  {
   "cell_type": "code",
   "execution_count": null,
   "metadata": {},
   "outputs": [],
   "source": [
    "melb_cp['Date'] = pd.to_datetime(melb_cp['Date'], dayfirst=True)"
   ]
  },
  {
   "cell_type": "markdown",
   "metadata": {},
   "source": [
    "1.1"
   ]
  },
  {
   "cell_type": "code",
   "execution_count": null,
   "metadata": {},
   "outputs": [],
   "source": [
    "def get_quarter(month):\n",
    "    if month in range(1,4):\n",
    "        return 1\n",
    "    elif  month in range(4,7):\n",
    "        return 2\n",
    "    elif month in range(7,10):\n",
    "        return 3\n",
    "    elif month in range(10,13):\n",
    "        return 4\n",
    "    "
   ]
  },
  {
   "cell_type": "code",
   "execution_count": null,
   "metadata": {},
   "outputs": [],
   "source": [
    "melb_cp['Quarter'] = melb_cp['Date'].dt.month.apply(get_quarter)"
   ]
  },
  {
   "cell_type": "markdown",
   "metadata": {},
   "source": [
    "Количество проданных квартир по четвертям года"
   ]
  },
  {
   "cell_type": "code",
   "execution_count": null,
   "metadata": {},
   "outputs": [],
   "source": [
    "display(melb_cp['Quarter'].value_counts())"
   ]
  },
  {
   "cell_type": "markdown",
   "metadata": {},
   "source": [
    "1.2"
   ]
  },
  {
   "cell_type": "code",
   "execution_count": null,
   "metadata": {},
   "outputs": [],
   "source": [
    "melb_cp2 = melb_df.copy()"
   ]
  },
  {
   "cell_type": "code",
   "execution_count": null,
   "metadata": {},
   "outputs": [],
   "source": [
    "columns_to_change = []\n",
    "ban_list = ['Date', 'Bedroom', 'Rooms', 'Car', 'Bathroom']\n",
    "\n",
    "for columnName in melb_cp2.columns.tolist():\n",
    "    if len(melb_cp2[columnName].value_counts().nlargest(150).index.tolist()) < 150 and columnName not in ban_list:\n",
    "        columns_to_change.insert(0, columnName)\n",
    "\n",
    "#display(columns_to_change)\n",
    "\n",
    "for columnName in melb_cp2.columns.tolist():\n",
    "    if columnName in columns_to_change:\n",
    "        melb_cp2[columnName] = melb_cp2[columnName].astype('category')\n",
    "        \n",
    "display(melb_cp2.info())"
   ]
  },
  {
   "cell_type": "markdown",
   "metadata": {},
   "source": [
    "Сортировка столбца. Сортировка по убыванию(ascending=False)\n",
    "Обновление индексов(ignore_index)"
   ]
  },
  {
   "cell_type": "code",
   "execution_count": null,
   "metadata": {},
   "outputs": [],
   "source": [
    "melb_cp.sort_values(by='AreaRatio', ascending=False, ignore_index=True)\n",
    "display(melb_cp.iloc[1558])\n",
    "display(melb_cp.info())"
   ]
  },
  {
   "cell_type": "code",
   "execution_count": null,
   "metadata": {},
   "outputs": [],
   "source": [
    "mask1 = melb_df['Type'] == 'townhouse'\n",
    "mask2 = melb_df['Rooms'] > 2\n",
    "\n",
    "result = melb_df[mask1 & mask2].sort_values(\n",
    "    by=['Rooms', 'MeanRoomsSquare'], \n",
    "    ascending=[True, False], \n",
    "    ignore_index=True)\n",
    "print(result.iloc[18])"
   ]
  },
  {
   "cell_type": "code",
   "execution_count": null,
   "metadata": {},
   "outputs": [],
   "source": [
    "mask1 = melb_df['Type'] == 'townhouse'\n",
    "mask2 = melb_df['Rooms'] > 2\n",
    "print(melb_df[mask1&mask2].sort_values(\n",
    "    by=['Rooms', 'MeanRoomsSquare'],\n",
    "    ascending=[True, False],\n",
    "    ignore_index=True\n",
    ").loc[18, 'Price'])"
   ]
  },
  {
   "cell_type": "markdown",
   "metadata": {},
   "source": [
    "Группировка данных. Вывод по убыванию"
   ]
  },
  {
   "cell_type": "code",
   "execution_count": null,
   "metadata": {},
   "outputs": [],
   "source": [
    "display(melb_df.groupby('Rooms')['Price'].agg('mean').sort_values(ascending=False))"
   ]
  },
  {
   "cell_type": "code",
   "execution_count": null,
   "metadata": {},
   "outputs": [],
   "source": [
    "display(melb_df.groupby('Regionname')['Lattitude'].agg('std').sort_values(ascending=True))"
   ]
  },
  {
   "cell_type": "markdown",
   "metadata": {},
   "source": [
    "Какая риелторская контора имеет наименьшую общую выручку за период"
   ]
  },
  {
   "cell_type": "code",
   "execution_count": null,
   "metadata": {},
   "outputs": [],
   "source": [
    "melb_cp3 = melb_df.copy()\n",
    "melb_cp3['Date'] = pd.to_datetime(melb_cp3.Date, dayfirst=True)\n",
    "melb_date = melb_cp3[(melb_cp3['Date'] >= pd.to_datetime('2017-05-01')) & (melb_cp3['Date'] <= pd.to_datetime('2017-09-01'))]\n",
    "#mask1 = \n",
    "display(melb_date.groupby('SellerG')['Price'].agg('sum').sort_values(ascending=True))"
   ]
  },
  {
   "cell_type": "markdown",
   "metadata": {},
   "source": [
    "Простейшая сводная таблица"
   ]
  },
  {
   "cell_type": "code",
   "execution_count": null,
   "metadata": {},
   "outputs": [],
   "source": [
    "print(melb_df.groupby('Rooms')[['Price', 'BuildingArea']].median())"
   ]
  },
  {
   "cell_type": "code",
   "execution_count": null,
   "metadata": {},
   "outputs": [],
   "source": [
    "print(melb_df.groupby(['Rooms', 'Type'])['Price'].mean())"
   ]
  },
  {
   "cell_type": "code",
   "execution_count": null,
   "metadata": {},
   "outputs": [],
   "source": [
    "print(melb_df.groupby(['Rooms', 'Type'])['Price'].mean().unstack())"
   ]
  },
  {
   "cell_type": "markdown",
   "metadata": {},
   "source": [
    "Тоже самое, но методом pivot_table"
   ]
  },
  {
   "cell_type": "code",
   "execution_count": null,
   "metadata": {},
   "outputs": [],
   "source": [
    "print(melb_df.pivot_table(\n",
    "    values='Price', # Данные в таблице\n",
    "    index='Rooms', # Индексы сводной таблицы\n",
    "    columns='Type', # имена столбцов: категории в 'Type'\n",
    "    fill_value=0, # пропуски запонить нулями\n",
    ").round())"
   ]
  },
  {
   "cell_type": "code",
   "execution_count": null,
   "metadata": {},
   "outputs": [],
   "source": [
    "print(melb_df.pivot_table(\n",
    "    values='Price', # Данные в таблице\n",
    "    index='Regionname', # Индексы сводной таблицы\n",
    "    columns='Weekend', # имена столбцов: категории в 'Type' \n",
    "    fill_value=0, # пропуски запонить нулями\n",
    "    aggfunc='count'\n",
    ").round())"
   ]
  },
  {
   "cell_type": "code",
   "execution_count": null,
   "metadata": {},
   "outputs": [],
   "source": [
    "print(melb_df.pivot_table(\n",
    "    values='Price', # имя столбца, к которому будут применены агрегирующие функции\n",
    "    index=['Regionname','Type'], # Индексы сводной таблицы\n",
    "    columns='Weekend', # имена столбцов: категории в 'Type' \n",
    "    fill_value=0, # пропуски запонить нулями\n",
    "    aggfunc='count' # список агрегирующих функций\n",
    ").round())"
   ]
  },
  {
   "cell_type": "code",
   "execution_count": null,
   "metadata": {},
   "outputs": [],
   "source": [
    "table = melb_df.pivot_table(\n",
    "    values='BuildingArea', # имя столбца, к которому будут применены агрегирующие функции\n",
    "    index='Type', # Индексы сводной таблицы\n",
    "    columns='Rooms', # имена столбцов: категории в 'Type' \n",
    "    fill_value=0, # пропуски запонить нулями\n",
    "    aggfunc='median' # список агрегирующих функций\n",
    ")\n",
    "print(table)"
   ]
  },
  {
   "cell_type": "code",
   "execution_count": null,
   "metadata": {},
   "outputs": [],
   "source": [
    "table = melb_df.pivot_table(\n",
    "    values='Price', # имя столбца, к которому будут применены агрегирующие функции\n",
    "    index='SellerG', # Индексы сводной таблицы\n",
    "    columns='Type', # имена столбцов: категории в 'Type' \n",
    "    fill_value=0, # пропуски запонить нулями\n",
    "    aggfunc='median' # список агрегирующих функций\n",
    ")\n",
    "max_price = table['unit'].max()\n",
    "\n",
    "#print(table)\n",
    "display(table[table['unit'] == max_price])\n",
    "display(table[table['unit'] == max_price].index)"
   ]
  }
 ],
 "metadata": {
  "kernelspec": {
   "display_name": "Python 3.8.10 64-bit",
   "language": "python",
   "name": "python3"
  },
  "language_info": {
   "codemirror_mode": {
    "name": "ipython",
    "version": 3
   },
   "file_extension": ".py",
   "mimetype": "text/x-python",
   "name": "python",
   "nbconvert_exporter": "python",
   "pygments_lexer": "ipython3",
   "version": "3.8.10 (default, Jun 22 2022, 20:18:18) \n[GCC 9.4.0]"
  },
  "orig_nbformat": 4,
  "vscode": {
   "interpreter": {
    "hash": "e7370f93d1d0cde622a1f8e1c04877d8463912d04d973331ad4851f04de6915a"
   }
  }
 },
 "nbformat": 4,
 "nbformat_minor": 2
}
