{
 "cells": [
  {
   "cell_type": "markdown",
   "metadata": {},
   "source": [
    "short"
   ]
  },
  {
   "cell_type": "code",
<<<<<<< HEAD
   "execution_count": null,
=======
   "execution_count": 2,
>>>>>>> commit 16:27
   "metadata": {},
   "outputs": [],
   "source": [
    "from game_v2 import score_game\n",
    "from game_v2 import random_predict"
   ]
  },
  {
   "cell_type": "code",
<<<<<<< HEAD
   "execution_count": null,
   "metadata": {},
   "outputs": [],
=======
   "execution_count": 3,
   "metadata": {},
   "outputs": [
    {
     "name": "stdout",
     "output_type": "stream",
     "text": [
      "Ваш алгоритм угадывает число в среднем за 101 попыток\n"
     ]
    },
    {
     "data": {
      "text/plain": [
       "101"
      ]
     },
     "execution_count": 3,
     "metadata": {},
     "output_type": "execute_result"
    }
   ],
   "source": [
    "score_game(random_predict)"
   ]
  },
  {
   "cell_type": "markdown",
   "metadata": {},
   "source": [
    "FULL"
   ]
  },
  {
   "cell_type": "code",
   "execution_count": 6,
   "metadata": {},
   "outputs": [],
   "source": [
    "import numpy as np\n",
    "\n",
    "def random_predict(number:int=1) -> int:\n",
    "    \n",
    "    count = 0\n",
    "    \n",
    "    while True:\n",
    "        count += 1\n",
    "        predict_number = np.random.randint(1,101)\n",
    "        if number == predict_number:\n",
    "            break\n",
    "    return(count)\n",
    "\n",
    "def score_game(random_predict) -> int:\n",
    "    \"\"\"За какое количество попыток в среднем из 1000 подходов угадывает наш алгоритм\n",
    "\n",
    "    Args:\n",
    "        random_predict (_type_): функция угадывания\n",
    "\n",
    "    Returns:\n",
    "        int: всреднее кол-во попыток\n",
    "    \"\"\"\n",
    "    count_ls = [] #список для сохранения количества попыток\n",
    "    np.random.seed(1) #фиксируем сид для воспроизводимости\n",
    "    random_array = np.random.randint(1,101, size = (1000)) #загадали список чисел\n",
    "    \n",
    "    for number in random_array:\n",
    "        count_ls.append(random_predict(number))\n",
    "        \n",
    "    score = int(np.mean(count_ls)) #среднее кол-во попыток\n",
    "    \n",
    "    print(f'Ваш алгоритм угадывает число в среднем за {score} попыток')\n",
    "    return(score)"
   ]
  },
  {
   "cell_type": "code",
   "execution_count": 7,
   "metadata": {},
   "outputs": [
    {
     "name": "stdout",
     "output_type": "stream",
     "text": [
      "Ваш алгоритм угадывает число в среднем за 101 попыток\n"
     ]
    },
    {
     "data": {
      "text/plain": [
       "101"
      ]
     },
     "execution_count": 7,
     "metadata": {},
     "output_type": "execute_result"
    }
   ],
>>>>>>> commit 16:27
   "source": [
    "score_game(random_predict)"
   ]
  }
 ],
 "metadata": {
  "kernelspec": {
   "display_name": "Python 3.9.14 64-bit",
   "language": "python",
   "name": "python3"
  },
  "language_info": {
   "name": "python",
   "version": "3.9.14"
  },
  "orig_nbformat": 4,
  "vscode": {
   "interpreter": {
    "hash": "f9f85f796d01129d0dd105a088854619f454435301f6ffec2fea96ecbd9be4ac"
   }
  }
 },
 "nbformat": 4,
 "nbformat_minor": 2
}
